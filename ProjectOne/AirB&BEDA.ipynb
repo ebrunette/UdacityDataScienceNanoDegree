{
 "cells": [
  {
   "cell_type": "code",
   "execution_count": 1,
   "metadata": {},
   "outputs": [],
   "source": [
    "import pandas as pd\n",
    "pd.set_option('display.max_columns', None)\n",
    "import seaborn as sns\n",
    "import matplotlib.pyplot as plt\n",
    "import numpy as np\n",
    "from sklearn.model_selection import train_test_split"
   ]
  },
  {
   "cell_type": "markdown",
   "metadata": {},
   "source": [
    "# Article that was published on [Medium](https://elibrunette.medium.com/factors-to-increase-rental-prices-for-airbnb-6a4cbb928e0d) discussing interesting information from analysis."
   ]
  },
  {
   "cell_type": "markdown",
   "metadata": {},
   "source": [
    "# Section 1: Business Understanding"
   ]
  },
  {
   "cell_type": "markdown",
   "metadata": {},
   "source": [
    "#### The purpose of this project is to find insight in the dataset for AirBnB datasets. A few questions that would be interesting to explore would be. \n",
    "### Question 1: Does having more pictures of the house correspond to higher overall reviews or prices for the location? \n",
    "### Question 2: Is square feet correlated to price?  \n",
    "### Question 3: What feature correlates to higher prices? \n",
    "### Question 4: What feature correlate to higher overall review ratings? \n",
    "### Question 5: What days are the most popular? Specifically Weekdays or Weekends? \n",
    "### Question 6: Does higher review count correspond to higher prices on the location? \n",
    "### Question 7: Does not having a picture correlate to not having a review?"
   ]
  },
  {
   "cell_type": "markdown",
   "metadata": {},
   "source": [
    "# Section 2: Data Understanding"
   ]
  },
  {
   "cell_type": "code",
   "execution_count": 2,
   "metadata": {},
   "outputs": [],
   "source": [
    "calendar = pd.read_csv('./data/archive/calendar.csv')\n",
    "listings = pd.read_csv('./data/archive/listings.csv')\n",
    "reviews = pd.read_csv('./data/archive/reviews.csv')"
   ]
  },
  {
   "cell_type": "markdown",
   "metadata": {},
   "source": [
    "#### Look at the columns of the data"
   ]
  },
  {
   "cell_type": "code",
   "execution_count": 3,
   "metadata": {},
   "outputs": [
    {
     "data": {
      "text/plain": [
       "Index(['listing_id', 'date', 'available', 'price'], dtype='object')"
      ]
     },
     "execution_count": 3,
     "metadata": {},
     "output_type": "execute_result"
    }
   ],
   "source": [
    "calendar.columns"
   ]
  },
  {
   "cell_type": "code",
   "execution_count": 4,
   "metadata": {},
   "outputs": [
    {
     "data": {
      "text/plain": [
       "Index(['id', 'listing_url', 'scrape_id', 'last_scraped', 'name', 'summary',\n",
       "       'space', 'description', 'experiences_offered', 'neighborhood_overview',\n",
       "       'notes', 'transit', 'thumbnail_url', 'medium_url', 'picture_url',\n",
       "       'xl_picture_url', 'host_id', 'host_url', 'host_name', 'host_since',\n",
       "       'host_location', 'host_about', 'host_response_time',\n",
       "       'host_response_rate', 'host_acceptance_rate', 'host_is_superhost',\n",
       "       'host_thumbnail_url', 'host_picture_url', 'host_neighbourhood',\n",
       "       'host_listings_count', 'host_total_listings_count',\n",
       "       'host_verifications', 'host_has_profile_pic', 'host_identity_verified',\n",
       "       'street', 'neighbourhood', 'neighbourhood_cleansed',\n",
       "       'neighbourhood_group_cleansed', 'city', 'state', 'zipcode', 'market',\n",
       "       'smart_location', 'country_code', 'country', 'latitude', 'longitude',\n",
       "       'is_location_exact', 'property_type', 'room_type', 'accommodates',\n",
       "       'bathrooms', 'bedrooms', 'beds', 'bed_type', 'amenities', 'square_feet',\n",
       "       'price', 'weekly_price', 'monthly_price', 'security_deposit',\n",
       "       'cleaning_fee', 'guests_included', 'extra_people', 'minimum_nights',\n",
       "       'maximum_nights', 'calendar_updated', 'has_availability',\n",
       "       'availability_30', 'availability_60', 'availability_90',\n",
       "       'availability_365', 'calendar_last_scraped', 'number_of_reviews',\n",
       "       'first_review', 'last_review', 'review_scores_rating',\n",
       "       'review_scores_accuracy', 'review_scores_cleanliness',\n",
       "       'review_scores_checkin', 'review_scores_communication',\n",
       "       'review_scores_location', 'review_scores_value', 'requires_license',\n",
       "       'license', 'jurisdiction_names', 'instant_bookable',\n",
       "       'cancellation_policy', 'require_guest_profile_picture',\n",
       "       'require_guest_phone_verification', 'calculated_host_listings_count',\n",
       "       'reviews_per_month'],\n",
       "      dtype='object')"
      ]
     },
     "execution_count": 4,
     "metadata": {},
     "output_type": "execute_result"
    }
   ],
   "source": [
    "listings.columns"
   ]
  },
  {
   "cell_type": "code",
   "execution_count": 5,
   "metadata": {},
   "outputs": [
    {
     "data": {
      "text/plain": [
       "Index(['listing_id', 'id', 'date', 'reviewer_id', 'reviewer_name', 'comments'], dtype='object')"
      ]
     },
     "execution_count": 5,
     "metadata": {},
     "output_type": "execute_result"
    }
   ],
   "source": [
    "reviews.columns"
   ]
  },
  {
   "cell_type": "markdown",
   "metadata": {},
   "source": [
    "#### Does having more pictures of the house correspond to higher overall reviews or prices for the location? "
   ]
  },
  {
   "cell_type": "code",
   "execution_count": 6,
   "metadata": {},
   "outputs": [
    {
     "data": {
      "text/plain": [
       "thumbnail_url     0.083814\n",
       "medium_url        0.083814\n",
       "xl_picture_url    0.083814\n",
       "dtype: float64"
      ]
     },
     "execution_count": 6,
     "metadata": {},
     "output_type": "execute_result"
    }
   ],
   "source": [
    "# Figure out how much of the data is missing.\n",
    "listings[['thumbnail_url','medium_url','xl_picture_url']].isna().mean()"
   ]
  },
  {
   "cell_type": "code",
   "execution_count": 7,
   "metadata": {},
   "outputs": [],
   "source": [
    "# Filling with the value of 0 becuase the cleaning method below will use that to feature generate a column for a binary value for if the url is present\n",
    "dataForPictureQuestion = listings[['thumbnail_url','medium_url','xl_picture_url','review_scores_value']].dropna(subset=['review_scores_value']).fillna(0)"
   ]
  },
  {
   "cell_type": "code",
   "execution_count": 8,
   "metadata": {},
   "outputs": [],
   "source": [
    "#cleaning up the column values\n",
    "for col in dataForPictureQuestion[['thumbnail_url','medium_url','xl_picture_url']].columns: \n",
    "    dataForPictureQuestion[col] = dataForPictureQuestion[col].apply(lambda x: 1 if x != 0 else 0)"
   ]
  },
  {
   "cell_type": "code",
   "execution_count": 9,
   "metadata": {},
   "outputs": [
    {
     "data": {
      "text/html": [
       "<div>\n",
       "<style scoped>\n",
       "    .dataframe tbody tr th:only-of-type {\n",
       "        vertical-align: middle;\n",
       "    }\n",
       "\n",
       "    .dataframe tbody tr th {\n",
       "        vertical-align: top;\n",
       "    }\n",
       "\n",
       "    .dataframe thead th {\n",
       "        text-align: right;\n",
       "    }\n",
       "</style>\n",
       "<table border=\"1\" class=\"dataframe\">\n",
       "  <thead>\n",
       "    <tr style=\"text-align: right;\">\n",
       "      <th></th>\n",
       "      <th>thumbnail_url</th>\n",
       "      <th>medium_url</th>\n",
       "      <th>xl_picture_url</th>\n",
       "      <th>review_scores_value</th>\n",
       "    </tr>\n",
       "  </thead>\n",
       "  <tbody>\n",
       "    <tr>\n",
       "      <td>0</td>\n",
       "      <td>0</td>\n",
       "      <td>0</td>\n",
       "      <td>0</td>\n",
       "      <td>10.0</td>\n",
       "    </tr>\n",
       "    <tr>\n",
       "      <td>1</td>\n",
       "      <td>1</td>\n",
       "      <td>1</td>\n",
       "      <td>1</td>\n",
       "      <td>10.0</td>\n",
       "    </tr>\n",
       "    <tr>\n",
       "      <td>2</td>\n",
       "      <td>0</td>\n",
       "      <td>0</td>\n",
       "      <td>0</td>\n",
       "      <td>10.0</td>\n",
       "    </tr>\n",
       "    <tr>\n",
       "      <td>4</td>\n",
       "      <td>0</td>\n",
       "      <td>0</td>\n",
       "      <td>0</td>\n",
       "      <td>9.0</td>\n",
       "    </tr>\n",
       "    <tr>\n",
       "      <td>5</td>\n",
       "      <td>1</td>\n",
       "      <td>1</td>\n",
       "      <td>1</td>\n",
       "      <td>10.0</td>\n",
       "    </tr>\n",
       "  </tbody>\n",
       "</table>\n",
       "</div>"
      ],
      "text/plain": [
       "   thumbnail_url  medium_url  xl_picture_url  review_scores_value\n",
       "0              0           0               0                 10.0\n",
       "1              1           1               1                 10.0\n",
       "2              0           0               0                 10.0\n",
       "4              0           0               0                  9.0\n",
       "5              1           1               1                 10.0"
      ]
     },
     "execution_count": 9,
     "metadata": {},
     "output_type": "execute_result"
    }
   ],
   "source": [
    "# view the result from the previous cleaning method. Expecting the only values in the columns to be 1 or 0 to help with filtering\n",
    "dataForPictureQuestion.head()"
   ]
  },
  {
   "cell_type": "code",
   "execution_count": 10,
   "metadata": {},
   "outputs": [
    {
     "data": {
      "text/html": [
       "<div>\n",
       "<style scoped>\n",
       "    .dataframe tbody tr th:only-of-type {\n",
       "        vertical-align: middle;\n",
       "    }\n",
       "\n",
       "    .dataframe tbody tr th {\n",
       "        vertical-align: top;\n",
       "    }\n",
       "\n",
       "    .dataframe thead th {\n",
       "        text-align: right;\n",
       "    }\n",
       "</style>\n",
       "<table border=\"1\" class=\"dataframe\">\n",
       "  <thead>\n",
       "    <tr style=\"text-align: right;\">\n",
       "      <th></th>\n",
       "      <th>thumbnail_url</th>\n",
       "      <th>medium_url</th>\n",
       "      <th>xl_picture_url</th>\n",
       "      <th>review_scores_value</th>\n",
       "    </tr>\n",
       "  </thead>\n",
       "  <tbody>\n",
       "    <tr>\n",
       "      <td>1</td>\n",
       "      <td>1</td>\n",
       "      <td>1</td>\n",
       "      <td>1</td>\n",
       "      <td>10.0</td>\n",
       "    </tr>\n",
       "    <tr>\n",
       "      <td>5</td>\n",
       "      <td>1</td>\n",
       "      <td>1</td>\n",
       "      <td>1</td>\n",
       "      <td>10.0</td>\n",
       "    </tr>\n",
       "    <tr>\n",
       "      <td>6</td>\n",
       "      <td>1</td>\n",
       "      <td>1</td>\n",
       "      <td>1</td>\n",
       "      <td>10.0</td>\n",
       "    </tr>\n",
       "    <tr>\n",
       "      <td>7</td>\n",
       "      <td>1</td>\n",
       "      <td>1</td>\n",
       "      <td>1</td>\n",
       "      <td>10.0</td>\n",
       "    </tr>\n",
       "    <tr>\n",
       "      <td>8</td>\n",
       "      <td>1</td>\n",
       "      <td>1</td>\n",
       "      <td>1</td>\n",
       "      <td>10.0</td>\n",
       "    </tr>\n",
       "    <tr>\n",
       "      <td>...</td>\n",
       "      <td>...</td>\n",
       "      <td>...</td>\n",
       "      <td>...</td>\n",
       "      <td>...</td>\n",
       "    </tr>\n",
       "    <tr>\n",
       "      <td>3810</td>\n",
       "      <td>1</td>\n",
       "      <td>1</td>\n",
       "      <td>1</td>\n",
       "      <td>8.0</td>\n",
       "    </tr>\n",
       "    <tr>\n",
       "      <td>3811</td>\n",
       "      <td>1</td>\n",
       "      <td>1</td>\n",
       "      <td>1</td>\n",
       "      <td>10.0</td>\n",
       "    </tr>\n",
       "    <tr>\n",
       "      <td>3812</td>\n",
       "      <td>1</td>\n",
       "      <td>1</td>\n",
       "      <td>1</td>\n",
       "      <td>10.0</td>\n",
       "    </tr>\n",
       "    <tr>\n",
       "      <td>3813</td>\n",
       "      <td>1</td>\n",
       "      <td>1</td>\n",
       "      <td>1</td>\n",
       "      <td>8.0</td>\n",
       "    </tr>\n",
       "    <tr>\n",
       "      <td>3814</td>\n",
       "      <td>1</td>\n",
       "      <td>1</td>\n",
       "      <td>1</td>\n",
       "      <td>10.0</td>\n",
       "    </tr>\n",
       "  </tbody>\n",
       "</table>\n",
       "<p>2905 rows × 4 columns</p>\n",
       "</div>"
      ],
      "text/plain": [
       "      thumbnail_url  medium_url  xl_picture_url  review_scores_value\n",
       "1                 1           1               1                 10.0\n",
       "5                 1           1               1                 10.0\n",
       "6                 1           1               1                 10.0\n",
       "7                 1           1               1                 10.0\n",
       "8                 1           1               1                 10.0\n",
       "...             ...         ...             ...                  ...\n",
       "3810              1           1               1                  8.0\n",
       "3811              1           1               1                 10.0\n",
       "3812              1           1               1                 10.0\n",
       "3813              1           1               1                  8.0\n",
       "3814              1           1               1                 10.0\n",
       "\n",
       "[2905 rows x 4 columns]"
      ]
     },
     "execution_count": 10,
     "metadata": {},
     "output_type": "execute_result"
    }
   ],
   "source": [
    "dataForPictureQuestion[(dataForPictureQuestion['thumbnail_url'] == 1)]"
   ]
  },
  {
   "cell_type": "code",
   "execution_count": 11,
   "metadata": {},
   "outputs": [
    {
     "data": {
      "text/html": [
       "<div>\n",
       "<style scoped>\n",
       "    .dataframe tbody tr th:only-of-type {\n",
       "        vertical-align: middle;\n",
       "    }\n",
       "\n",
       "    .dataframe tbody tr th {\n",
       "        vertical-align: top;\n",
       "    }\n",
       "\n",
       "    .dataframe thead th {\n",
       "        text-align: right;\n",
       "    }\n",
       "</style>\n",
       "<table border=\"1\" class=\"dataframe\">\n",
       "  <thead>\n",
       "    <tr style=\"text-align: right;\">\n",
       "      <th></th>\n",
       "      <th>thumbnail_url</th>\n",
       "      <th>medium_url</th>\n",
       "      <th>xl_picture_url</th>\n",
       "      <th>review_scores_value</th>\n",
       "    </tr>\n",
       "  </thead>\n",
       "  <tbody>\n",
       "    <tr>\n",
       "      <td>1</td>\n",
       "      <td>1</td>\n",
       "      <td>1</td>\n",
       "      <td>1</td>\n",
       "      <td>10.0</td>\n",
       "    </tr>\n",
       "    <tr>\n",
       "      <td>5</td>\n",
       "      <td>1</td>\n",
       "      <td>1</td>\n",
       "      <td>1</td>\n",
       "      <td>10.0</td>\n",
       "    </tr>\n",
       "    <tr>\n",
       "      <td>6</td>\n",
       "      <td>1</td>\n",
       "      <td>1</td>\n",
       "      <td>1</td>\n",
       "      <td>10.0</td>\n",
       "    </tr>\n",
       "    <tr>\n",
       "      <td>7</td>\n",
       "      <td>1</td>\n",
       "      <td>1</td>\n",
       "      <td>1</td>\n",
       "      <td>10.0</td>\n",
       "    </tr>\n",
       "    <tr>\n",
       "      <td>8</td>\n",
       "      <td>1</td>\n",
       "      <td>1</td>\n",
       "      <td>1</td>\n",
       "      <td>10.0</td>\n",
       "    </tr>\n",
       "    <tr>\n",
       "      <td>...</td>\n",
       "      <td>...</td>\n",
       "      <td>...</td>\n",
       "      <td>...</td>\n",
       "      <td>...</td>\n",
       "    </tr>\n",
       "    <tr>\n",
       "      <td>3810</td>\n",
       "      <td>1</td>\n",
       "      <td>1</td>\n",
       "      <td>1</td>\n",
       "      <td>8.0</td>\n",
       "    </tr>\n",
       "    <tr>\n",
       "      <td>3811</td>\n",
       "      <td>1</td>\n",
       "      <td>1</td>\n",
       "      <td>1</td>\n",
       "      <td>10.0</td>\n",
       "    </tr>\n",
       "    <tr>\n",
       "      <td>3812</td>\n",
       "      <td>1</td>\n",
       "      <td>1</td>\n",
       "      <td>1</td>\n",
       "      <td>10.0</td>\n",
       "    </tr>\n",
       "    <tr>\n",
       "      <td>3813</td>\n",
       "      <td>1</td>\n",
       "      <td>1</td>\n",
       "      <td>1</td>\n",
       "      <td>8.0</td>\n",
       "    </tr>\n",
       "    <tr>\n",
       "      <td>3814</td>\n",
       "      <td>1</td>\n",
       "      <td>1</td>\n",
       "      <td>1</td>\n",
       "      <td>10.0</td>\n",
       "    </tr>\n",
       "  </tbody>\n",
       "</table>\n",
       "<p>2905 rows × 4 columns</p>\n",
       "</div>"
      ],
      "text/plain": [
       "      thumbnail_url  medium_url  xl_picture_url  review_scores_value\n",
       "1                 1           1               1                 10.0\n",
       "5                 1           1               1                 10.0\n",
       "6                 1           1               1                 10.0\n",
       "7                 1           1               1                 10.0\n",
       "8                 1           1               1                 10.0\n",
       "...             ...         ...             ...                  ...\n",
       "3810              1           1               1                  8.0\n",
       "3811              1           1               1                 10.0\n",
       "3812              1           1               1                 10.0\n",
       "3813              1           1               1                  8.0\n",
       "3814              1           1               1                 10.0\n",
       "\n",
       "[2905 rows x 4 columns]"
      ]
     },
     "execution_count": 11,
     "metadata": {},
     "output_type": "execute_result"
    }
   ],
   "source": [
    "dataForPictureQuestion[(dataForPictureQuestion['medium_url'] == 1) & (dataForPictureQuestion['xl_picture_url'] == 1)]"
   ]
  },
  {
   "cell_type": "markdown",
   "metadata": {},
   "source": [
    "#### The data suggests that if you have one picture in the listing, then you will have all of the pictures in the listing. Determined by adjusting the columns in the previous cell, and noting that they all have the same number of rows in the resulting dataset. Also that the dataset has about 90% of a value in the dataset. "
   ]
  },
  {
   "cell_type": "markdown",
   "metadata": {},
   "source": [
    "I would like to see a correlation of scores to each of the datasets values. I am including the various picture values, even though if you have one value, then you will get ones across the board. <br>\n",
    "Using the information that if it is one value for any of the picture urls, then it has a value for all of them. That means that I can keep one column and if it is true for that column, then it will hold true for all of them, and try to save some local ram for the dummy columns. I just randomly decided to use the 'thumbnail_url' column."
   ]
  },
  {
   "cell_type": "code",
   "execution_count": 12,
   "metadata": {},
   "outputs": [
    {
     "data": {
      "text/html": [
       "<div>\n",
       "<style scoped>\n",
       "    .dataframe tbody tr th:only-of-type {\n",
       "        vertical-align: middle;\n",
       "    }\n",
       "\n",
       "    .dataframe tbody tr th {\n",
       "        vertical-align: top;\n",
       "    }\n",
       "\n",
       "    .dataframe thead th {\n",
       "        text-align: right;\n",
       "    }\n",
       "</style>\n",
       "<table border=\"1\" class=\"dataframe\">\n",
       "  <thead>\n",
       "    <tr style=\"text-align: right;\">\n",
       "      <th></th>\n",
       "      <th>thumbnail_url</th>\n",
       "      <th>medium_url</th>\n",
       "      <th>xl_picture_url</th>\n",
       "      <th>review_scores_value</th>\n",
       "    </tr>\n",
       "  </thead>\n",
       "  <tbody>\n",
       "    <tr>\n",
       "      <td>0</td>\n",
       "      <td>0</td>\n",
       "      <td>0</td>\n",
       "      <td>0</td>\n",
       "      <td>10.0</td>\n",
       "    </tr>\n",
       "    <tr>\n",
       "      <td>1</td>\n",
       "      <td>1</td>\n",
       "      <td>1</td>\n",
       "      <td>1</td>\n",
       "      <td>10.0</td>\n",
       "    </tr>\n",
       "    <tr>\n",
       "      <td>2</td>\n",
       "      <td>0</td>\n",
       "      <td>0</td>\n",
       "      <td>0</td>\n",
       "      <td>10.0</td>\n",
       "    </tr>\n",
       "    <tr>\n",
       "      <td>4</td>\n",
       "      <td>0</td>\n",
       "      <td>0</td>\n",
       "      <td>0</td>\n",
       "      <td>9.0</td>\n",
       "    </tr>\n",
       "    <tr>\n",
       "      <td>5</td>\n",
       "      <td>1</td>\n",
       "      <td>1</td>\n",
       "      <td>1</td>\n",
       "      <td>10.0</td>\n",
       "    </tr>\n",
       "  </tbody>\n",
       "</table>\n",
       "</div>"
      ],
      "text/plain": [
       "   thumbnail_url  medium_url  xl_picture_url  review_scores_value\n",
       "0              0           0               0                 10.0\n",
       "1              1           1               1                 10.0\n",
       "2              0           0               0                 10.0\n",
       "4              0           0               0                  9.0\n",
       "5              1           1               1                 10.0"
      ]
     },
     "execution_count": 12,
     "metadata": {},
     "output_type": "execute_result"
    }
   ],
   "source": [
    "dataForPictureQuestion.head()"
   ]
  },
  {
   "cell_type": "code",
   "execution_count": 13,
   "metadata": {},
   "outputs": [
    {
     "data": {
      "text/plain": [
       "array([10.,  9.,  8.,  7.,  6.,  4.,  2.,  5.])"
      ]
     },
     "execution_count": 13,
     "metadata": {},
     "output_type": "execute_result"
    }
   ],
   "source": [
    "dataForPictureQuestion['review_scores_value'].unique()"
   ]
  },
  {
   "cell_type": "code",
   "execution_count": 14,
   "metadata": {},
   "outputs": [
    {
     "name": "stderr",
     "output_type": "stream",
     "text": [
      "C:\\Users\\eliel\\Anaconda3\\lib\\site-packages\\pandas\\core\\indexing.py:205: SettingWithCopyWarning: \n",
      "A value is trying to be set on a copy of a slice from a DataFrame\n",
      "\n",
      "See the caveats in the documentation: http://pandas.pydata.org/pandas-docs/stable/user_guide/indexing.html#returning-a-view-versus-a-copy\n",
      "  self._setitem_with_indexer(indexer, value)\n"
     ]
    }
   ],
   "source": [
    "dummyScoreValues = pd.get_dummies(dataForPictureQuestion['review_scores_value'])\n",
    "#change values so that when we create a dummy column for it, the values will make sense in the resulting dataset.\n",
    "dataForPictureQuestion['thumbnail_url'].loc[dataForPictureQuestion['thumbnail_url'] == 1] = 'Contains Pictures'\n",
    "dataForPictureQuestion['thumbnail_url'].loc[dataForPictureQuestion['thumbnail_url'] == 0] = 'No Pictures'\n",
    "dummyPictureValues = pd.get_dummies(dataForPictureQuestion['thumbnail_url'])"
   ]
  },
  {
   "cell_type": "code",
   "execution_count": 15,
   "metadata": {},
   "outputs": [],
   "source": [
    "#in the large string of items I group_by values to count the items in the group. Then I reset the index to be able to pivot based on the previous columns. \n",
    "# finally filling na with 0 for any NA values becuase NA means that they didn't have any counts in the count method. \n",
    "dataForPictureHeatmap = dataForPictureQuestion[['thumbnail_url','review_scores_value','medium_url']].groupby(['thumbnail_url','review_scores_value']).count()\\\n",
    "                                                                            .rename({'medium_url':'count'},axis=1)\\\n",
    "                                                                            .reset_index()\\\n",
    "                                                                            .pivot('thumbnail_url','review_scores_value','count')\\\n",
    "                                                                            .fillna(0)"
   ]
  },
  {
   "cell_type": "code",
   "execution_count": 16,
   "metadata": {},
   "outputs": [
    {
     "data": {
      "text/html": [
       "<div>\n",
       "<style scoped>\n",
       "    .dataframe tbody tr th:only-of-type {\n",
       "        vertical-align: middle;\n",
       "    }\n",
       "\n",
       "    .dataframe tbody tr th {\n",
       "        vertical-align: top;\n",
       "    }\n",
       "\n",
       "    .dataframe thead th {\n",
       "        text-align: right;\n",
       "    }\n",
       "</style>\n",
       "<table border=\"1\" class=\"dataframe\">\n",
       "  <thead>\n",
       "    <tr style=\"text-align: right;\">\n",
       "      <th>review_scores_value</th>\n",
       "      <th>2.0</th>\n",
       "      <th>4.0</th>\n",
       "      <th>5.0</th>\n",
       "      <th>6.0</th>\n",
       "      <th>7.0</th>\n",
       "      <th>8.0</th>\n",
       "      <th>9.0</th>\n",
       "      <th>10.0</th>\n",
       "    </tr>\n",
       "    <tr>\n",
       "      <th>thumbnail_url</th>\n",
       "      <th></th>\n",
       "      <th></th>\n",
       "      <th></th>\n",
       "      <th></th>\n",
       "      <th></th>\n",
       "      <th></th>\n",
       "      <th></th>\n",
       "      <th></th>\n",
       "    </tr>\n",
       "  </thead>\n",
       "  <tbody>\n",
       "    <tr>\n",
       "      <td>Contains Pictures</td>\n",
       "      <td>1.0</td>\n",
       "      <td>4.0</td>\n",
       "      <td>1.0</td>\n",
       "      <td>15.0</td>\n",
       "      <td>33.0</td>\n",
       "      <td>179.0</td>\n",
       "      <td>1032.0</td>\n",
       "      <td>1640.0</td>\n",
       "    </tr>\n",
       "    <tr>\n",
       "      <td>No Pictures</td>\n",
       "      <td>0.0</td>\n",
       "      <td>0.0</td>\n",
       "      <td>0.0</td>\n",
       "      <td>1.0</td>\n",
       "      <td>5.0</td>\n",
       "      <td>11.0</td>\n",
       "      <td>105.0</td>\n",
       "      <td>135.0</td>\n",
       "    </tr>\n",
       "  </tbody>\n",
       "</table>\n",
       "</div>"
      ],
      "text/plain": [
       "review_scores_value  2.0   4.0   5.0   6.0   7.0    8.0     9.0     10.0\n",
       "thumbnail_url                                                           \n",
       "Contains Pictures     1.0   4.0   1.0  15.0  33.0  179.0  1032.0  1640.0\n",
       "No Pictures           0.0   0.0   0.0   1.0   5.0   11.0   105.0   135.0"
      ]
     },
     "execution_count": 16,
     "metadata": {},
     "output_type": "execute_result"
    }
   ],
   "source": [
    "dataForPictureHeatmap"
   ]
  },
  {
   "cell_type": "code",
   "execution_count": 17,
   "metadata": {},
   "outputs": [
    {
     "data": {
      "text/plain": [
       "Text(156.5, 0.5, 'Listing posting contains pictures.')"
      ]
     },
     "execution_count": 17,
     "metadata": {},
     "output_type": "execute_result"
    },
    {
     "data": {
      "image/png": "[encoded data removed]",
      "text/plain": [
       "<Figure size 1440x360 with 2 Axes>"
      ]
     },
     "metadata": {},
     "output_type": "display_data"
    }
   ],
   "source": [
    "import matplotlib.pyplot as plt\n",
    "\n",
    "sns.set(rc={'figure.figsize':(20,5)})\n",
    "sns.heatmap(dataForPictureHeatmap,annot=True).set_ylim([0,2])\n",
    "plt.title('Heatmap of distribution of review scores vs if the listing contains pictures.')\n",
    "plt.xlabel(\"Review Scores for listing.\")\n",
    "plt.ylabel(\"Listing posting contains pictures.\")"
   ]
  },
  {
   "cell_type": "markdown",
   "metadata": {},
   "source": [
    "#### This picture shows is a visual representation of the distribution of pictures vs review score. This shows that most of the values that contain pictures also recieve a higher rating. However, compared to the other distribution, the listings with no pictures still recieve a very high review even if they don't have a picture. So it looks like, no picture, no problem! You are in the minority for not posting listings with pictures, but it doesn't seem to matter. "
   ]
  },
  {
   "cell_type": "markdown",
   "metadata": {},
   "source": [
    "#### Time to see if this is also representative of the entire dataset. "
   ]
  },
  {
   "cell_type": "code",
   "execution_count": 18,
   "metadata": {},
   "outputs": [
    {
     "data": {
      "text/plain": [
       "Text(0.5, 1.0, 'Histogram of review scores')"
      ]
     },
     "execution_count": 18,
     "metadata": {},
     "output_type": "execute_result"
    },
    {
     "data": {
      "image/png": "[encoded data removed]",
      "text/plain": [
       "<Figure size 1440x360 with 1 Axes>"
      ]
     },
     "metadata": {},
     "output_type": "display_data"
    }
   ],
   "source": [
    "listings['review_scores_value'].hist()\n",
    "plt.xlabel(\"Review score values\")\n",
    "plt.ylabel(\"Count of that review score\")\n",
    "plt.title(\"Histogram of review scores\")"
   ]
  },
  {
   "cell_type": "code",
   "execution_count": 19,
   "metadata": {},
   "outputs": [
    {
     "data": {
      "text/plain": [
       "count    3162.000000\n",
       "mean        9.452245\n",
       "std         0.750259\n",
       "min         2.000000\n",
       "25%         9.000000\n",
       "50%        10.000000\n",
       "75%        10.000000\n",
       "max        10.000000\n",
       "Name: review_scores_value, dtype: float64"
      ]
     },
     "execution_count": 19,
     "metadata": {},
     "output_type": "execute_result"
    }
   ],
   "source": [
    "listings['review_scores_value'].describe()"
   ]
  },
  {
   "cell_type": "markdown",
   "metadata": {},
   "source": [
    "This plot shows that the lowest review score is a 2, and most of the distribution of rentals are towards the top for analyses that have pictures attached to the rental. <br> \n",
    "This also shows us that the overall review score is skewed towards the high end with more everyone enjoying their stay at AirBnB rooms. With over half of the review scores being a 10. "
   ]
  },
  {
   "cell_type": "markdown",
   "metadata": {},
   "source": [
    "### Is square feet correlated to price?"
   ]
  },
  {
   "cell_type": "markdown",
   "metadata": {},
   "source": [
    "First thing to do is to look into the features for those two items."
   ]
  },
  {
   "cell_type": "code",
   "execution_count": 20,
   "metadata": {},
   "outputs": [
    {
     "data": {
      "text/plain": [
       "3721"
      ]
     },
     "execution_count": 20,
     "metadata": {},
     "output_type": "execute_result"
    }
   ],
   "source": [
    "listings['square_feet'].isna().sum()"
   ]
  },
  {
   "cell_type": "code",
   "execution_count": 21,
   "metadata": {},
   "outputs": [
    {
     "data": {
      "text/plain": [
       "(3818, 92)"
      ]
     },
     "execution_count": 21,
     "metadata": {},
     "output_type": "execute_result"
    }
   ],
   "source": [
    "listings.shape"
   ]
  },
  {
   "cell_type": "markdown",
   "metadata": {},
   "source": [
    "#### This shows that there isn't a ton of data around the square feet, and problable won't be able to accurately infer a square feet from the data that isn't biased... <br> \n",
    "#### However, we still might be able to infer some inforamtion from what we have."
   ]
  },
  {
   "cell_type": "code",
   "execution_count": 22,
   "metadata": {},
   "outputs": [],
   "source": [
    "not_null_square_feet = listings[listings['square_feet'].notnull()]"
   ]
  },
  {
   "cell_type": "code",
   "execution_count": 23,
   "metadata": {},
   "outputs": [
    {
     "data": {
      "text/html": [
       "<div>\n",
       "<style scoped>\n",
       "    .dataframe tbody tr th:only-of-type {\n",
       "        vertical-align: middle;\n",
       "    }\n",
       "\n",
       "    .dataframe tbody tr th {\n",
       "        vertical-align: top;\n",
       "    }\n",
       "\n",
       "    .dataframe thead th {\n",
       "        text-align: right;\n",
       "    }\n",
       "</style>\n",
       "<table border=\"1\" class=\"dataframe\">\n",
       "  <thead>\n",
       "    <tr style=\"text-align: right;\">\n",
       "      <th></th>\n",
       "      <th>id</th>\n",
       "      <th>listing_url</th>\n",
       "      <th>scrape_id</th>\n",
       "      <th>last_scraped</th>\n",
       "      <th>name</th>\n",
       "      <th>summary</th>\n",
       "      <th>space</th>\n",
       "      <th>description</th>\n",
       "      <th>experiences_offered</th>\n",
       "      <th>neighborhood_overview</th>\n",
       "      <th>notes</th>\n",
       "      <th>transit</th>\n",
       "      <th>thumbnail_url</th>\n",
       "      <th>medium_url</th>\n",
       "      <th>picture_url</th>\n",
       "      <th>xl_picture_url</th>\n",
       "      <th>host_id</th>\n",
       "      <th>host_url</th>\n",
       "      <th>host_name</th>\n",
       "      <th>host_since</th>\n",
       "      <th>host_location</th>\n",
       "      <th>host_about</th>\n",
       "      <th>host_response_time</th>\n",
       "      <th>host_response_rate</th>\n",
       "      <th>host_acceptance_rate</th>\n",
       "      <th>host_is_superhost</th>\n",
       "      <th>host_thumbnail_url</th>\n",
       "      <th>host_picture_url</th>\n",
       "      <th>host_neighbourhood</th>\n",
       "      <th>host_listings_count</th>\n",
       "      <th>host_total_listings_count</th>\n",
       "      <th>host_verifications</th>\n",
       "      <th>host_has_profile_pic</th>\n",
       "      <th>host_identity_verified</th>\n",
       "      <th>street</th>\n",
       "      <th>neighbourhood</th>\n",
       "      <th>neighbourhood_cleansed</th>\n",
       "      <th>neighbourhood_group_cleansed</th>\n",
       "      <th>city</th>\n",
       "      <th>state</th>\n",
       "      <th>zipcode</th>\n",
       "      <th>market</th>\n",
       "      <th>smart_location</th>\n",
       "      <th>country_code</th>\n",
       "      <th>country</th>\n",
       "      <th>latitude</th>\n",
       "      <th>longitude</th>\n",
       "      <th>is_location_exact</th>\n",
       "      <th>property_type</th>\n",
       "      <th>room_type</th>\n",
       "      <th>accommodates</th>\n",
       "      <th>bathrooms</th>\n",
       "      <th>bedrooms</th>\n",
       "      <th>beds</th>\n",
       "      <th>bed_type</th>\n",
       "      <th>amenities</th>\n",
       "      <th>square_feet</th>\n",
       "      <th>price</th>\n",
       "      <th>weekly_price</th>\n",
       "      <th>monthly_price</th>\n",
       "      <th>security_deposit</th>\n",
       "      <th>cleaning_fee</th>\n",
       "      <th>guests_included</th>\n",
       "      <th>extra_people</th>\n",
       "      <th>minimum_nights</th>\n",
       "      <th>maximum_nights</th>\n",
       "      <th>calendar_updated</th>\n",
       "      <th>has_availability</th>\n",
       "      <th>availability_30</th>\n",
       "      <th>availability_60</th>\n",
       "      <th>availability_90</th>\n",
       "      <th>availability_365</th>\n",
       "      <th>calendar_last_scraped</th>\n",
       "      <th>number_of_reviews</th>\n",
       "      <th>first_review</th>\n",
       "      <th>last_review</th>\n",
       "      <th>review_scores_rating</th>\n",
       "      <th>review_scores_accuracy</th>\n",
       "      <th>review_scores_cleanliness</th>\n",
       "      <th>review_scores_checkin</th>\n",
       "      <th>review_scores_communication</th>\n",
       "      <th>review_scores_location</th>\n",
       "      <th>review_scores_value</th>\n",
       "      <th>requires_license</th>\n",
       "      <th>license</th>\n",
       "      <th>jurisdiction_names</th>\n",
       "      <th>instant_bookable</th>\n",
       "      <th>cancellation_policy</th>\n",
       "      <th>require_guest_profile_picture</th>\n",
       "      <th>require_guest_phone_verification</th>\n",
       "      <th>calculated_host_listings_count</th>\n",
       "      <th>reviews_per_month</th>\n",
       "    </tr>\n",
       "  </thead>\n",
       "  <tbody>\n",
       "    <tr>\n",
       "      <td>96</td>\n",
       "      <td>20927</td>\n",
       "      <td>https://www.airbnb.com/rooms/20927</td>\n",
       "      <td>20160104002432</td>\n",
       "      <td>2016-01-04</td>\n",
       "      <td>Cottage in the Heart of Ballard</td>\n",
       "      <td>A  cozy cottage behind a lovely Victorian hous...</td>\n",
       "      <td>A cozy cottage behind a lovely Victorian house...</td>\n",
       "      <td>A  cozy cottage behind a lovely Victorian hous...</td>\n",
       "      <td>none</td>\n",
       "      <td>Ballard is a fantastic destination neighborhoo...</td>\n",
       "      <td>Golden Gardens Park on Puget Sound is a mile a...</td>\n",
       "      <td>Convenient and frequent bus service to downtow...</td>\n",
       "      <td>https://a1.muscache.com/ac/pictures/234452/3f9...</td>\n",
       "      <td>https://a1.muscache.com/im/pictures/234452/3f9...</td>\n",
       "      <td>https://a1.muscache.com/ac/pictures/234452/3f9...</td>\n",
       "      <td>https://a1.muscache.com/ac/pictures/234452/3f9...</td>\n",
       "      <td>79450</td>\n",
       "      <td>https://www.airbnb.com/users/show/79450</td>\n",
       "      <td>Brad &amp; Liz</td>\n",
       "      <td>2010-02-09</td>\n",
       "      <td>Seattle, Washington, United States</td>\n",
       "      <td>(Facebook+) Likes:\\r\\nLIZ: Drawing, Painting, ...</td>\n",
       "      <td>within an hour</td>\n",
       "      <td>100%</td>\n",
       "      <td>100%</td>\n",
       "      <td>t</td>\n",
       "      <td>https://a1.muscache.com/ac/users/79450/profile...</td>\n",
       "      <td>https://a1.muscache.com/ac/users/79450/profile...</td>\n",
       "      <td>Ballard</td>\n",
       "      <td>2.0</td>\n",
       "      <td>2.0</td>\n",
       "      <td>['email', 'phone', 'facebook', 'linkedin', 're...</td>\n",
       "      <td>t</td>\n",
       "      <td>t</td>\n",
       "      <td>NW 60th St, Seattle, WA 98107, United States</td>\n",
       "      <td>Ballard</td>\n",
       "      <td>Adams</td>\n",
       "      <td>Ballard</td>\n",
       "      <td>Seattle</td>\n",
       "      <td>WA</td>\n",
       "      <td>98107</td>\n",
       "      <td>Seattle</td>\n",
       "      <td>Seattle, WA</td>\n",
       "      <td>US</td>\n",
       "      <td>United States</td>\n",
       "      <td>47.673339</td>\n",
       "      <td>-122.39512</td>\n",
       "      <td>t</td>\n",
       "      <td>Cabin</td>\n",
       "      <td>Entire home/apt</td>\n",
       "      <td>2</td>\n",
       "      <td>1.0</td>\n",
       "      <td>1.0</td>\n",
       "      <td>1.0</td>\n",
       "      <td>Futon</td>\n",
       "      <td>{TV,\"Cable TV\",Internet,\"Wireless Internet\",\"F...</td>\n",
       "      <td>400.0</td>\n",
       "      <td>$89.00</td>\n",
       "      <td>$549.00</td>\n",
       "      <td>NaN</td>\n",
       "      <td>NaN</td>\n",
       "      <td>$10.00</td>\n",
       "      <td>2</td>\n",
       "      <td>$0.00</td>\n",
       "      <td>2</td>\n",
       "      <td>14</td>\n",
       "      <td>today</td>\n",
       "      <td>t</td>\n",
       "      <td>10</td>\n",
       "      <td>40</td>\n",
       "      <td>70</td>\n",
       "      <td>341</td>\n",
       "      <td>2016-01-04</td>\n",
       "      <td>244</td>\n",
       "      <td>2010-07-04</td>\n",
       "      <td>2015-12-26</td>\n",
       "      <td>97.0</td>\n",
       "      <td>10.0</td>\n",
       "      <td>9.0</td>\n",
       "      <td>10.0</td>\n",
       "      <td>10.0</td>\n",
       "      <td>10.0</td>\n",
       "      <td>10.0</td>\n",
       "      <td>f</td>\n",
       "      <td>NaN</td>\n",
       "      <td>WASHINGTON</td>\n",
       "      <td>t</td>\n",
       "      <td>moderate</td>\n",
       "      <td>f</td>\n",
       "      <td>f</td>\n",
       "      <td>2</td>\n",
       "      <td>3.64</td>\n",
       "    </tr>\n",
       "    <tr>\n",
       "      <td>103</td>\n",
       "      <td>1579615</td>\n",
       "      <td>https://www.airbnb.com/rooms/1579615</td>\n",
       "      <td>20160104002432</td>\n",
       "      <td>2016-01-04</td>\n",
       "      <td>Ballard, Seattle Cozy Studio Apt.</td>\n",
       "      <td>Nice, clean, cozy home apt-studio in the h...</td>\n",
       "      <td>This beautiful home apartment studio is locate...</td>\n",
       "      <td>Nice, clean, cozy home apt-studio in the h...</td>\n",
       "      <td>none</td>\n",
       "      <td>Ballard is a very nice neighborhood with lots ...</td>\n",
       "      <td>NaN</td>\n",
       "      <td>NaN</td>\n",
       "      <td>https://a0.muscache.com/ac/pictures/67825250/5...</td>\n",
       "      <td>https://a0.muscache.com/im/pictures/67825250/5...</td>\n",
       "      <td>https://a0.muscache.com/ac/pictures/67825250/5...</td>\n",
       "      <td>https://a0.muscache.com/ac/pictures/67825250/5...</td>\n",
       "      <td>8403307</td>\n",
       "      <td>https://www.airbnb.com/users/show/8403307</td>\n",
       "      <td>Mario</td>\n",
       "      <td>2013-08-26</td>\n",
       "      <td>Seattle, Washington, United States</td>\n",
       "      <td>Originally from Havana, Cuba where I was born ...</td>\n",
       "      <td>within an hour</td>\n",
       "      <td>100%</td>\n",
       "      <td>100%</td>\n",
       "      <td>t</td>\n",
       "      <td>https://a2.muscache.com/ac/users/8403307/profi...</td>\n",
       "      <td>https://a2.muscache.com/ac/users/8403307/profi...</td>\n",
       "      <td>Ballard</td>\n",
       "      <td>2.0</td>\n",
       "      <td>2.0</td>\n",
       "      <td>['email', 'phone', 'facebook', 'reviews', 'jum...</td>\n",
       "      <td>t</td>\n",
       "      <td>t</td>\n",
       "      <td>Northwest 64th Street, Seattle, WA 98107, Unit...</td>\n",
       "      <td>Ballard</td>\n",
       "      <td>Adams</td>\n",
       "      <td>Ballard</td>\n",
       "      <td>Seattle</td>\n",
       "      <td>WA</td>\n",
       "      <td>98107</td>\n",
       "      <td>Seattle</td>\n",
       "      <td>Seattle, WA</td>\n",
       "      <td>US</td>\n",
       "      <td>United States</td>\n",
       "      <td>47.675822</td>\n",
       "      <td>-122.38971</td>\n",
       "      <td>t</td>\n",
       "      <td>House</td>\n",
       "      <td>Entire home/apt</td>\n",
       "      <td>3</td>\n",
       "      <td>1.0</td>\n",
       "      <td>1.0</td>\n",
       "      <td>2.0</td>\n",
       "      <td>Real Bed</td>\n",
       "      <td>{TV,Internet,\"Wireless Internet\",Kitchen,\"Free...</td>\n",
       "      <td>485.0</td>\n",
       "      <td>$97.00</td>\n",
       "      <td>$590.00</td>\n",
       "      <td>$1,795.00</td>\n",
       "      <td>$100.00</td>\n",
       "      <td>$45.00</td>\n",
       "      <td>2</td>\n",
       "      <td>$10.00</td>\n",
       "      <td>2</td>\n",
       "      <td>1125</td>\n",
       "      <td>today</td>\n",
       "      <td>t</td>\n",
       "      <td>21</td>\n",
       "      <td>47</td>\n",
       "      <td>77</td>\n",
       "      <td>340</td>\n",
       "      <td>2016-01-04</td>\n",
       "      <td>44</td>\n",
       "      <td>2013-09-05</td>\n",
       "      <td>2015-12-21</td>\n",
       "      <td>98.0</td>\n",
       "      <td>10.0</td>\n",
       "      <td>10.0</td>\n",
       "      <td>10.0</td>\n",
       "      <td>10.0</td>\n",
       "      <td>10.0</td>\n",
       "      <td>10.0</td>\n",
       "      <td>f</td>\n",
       "      <td>NaN</td>\n",
       "      <td>WASHINGTON</td>\n",
       "      <td>t</td>\n",
       "      <td>strict</td>\n",
       "      <td>f</td>\n",
       "      <td>f</td>\n",
       "      <td>1</td>\n",
       "      <td>1.55</td>\n",
       "    </tr>\n",
       "  </tbody>\n",
       "</table>\n",
       "</div>"
      ],
      "text/plain": [
       "          id                           listing_url       scrape_id  \\\n",
       "96     20927    https://www.airbnb.com/rooms/20927  20160104002432   \n",
       "103  1579615  https://www.airbnb.com/rooms/1579615  20160104002432   \n",
       "\n",
       "    last_scraped                               name  \\\n",
       "96    2016-01-04    Cottage in the Heart of Ballard   \n",
       "103   2016-01-04  Ballard, Seattle Cozy Studio Apt.   \n",
       "\n",
       "                                               summary  \\\n",
       "96   A  cozy cottage behind a lovely Victorian hous...   \n",
       "103      Nice, clean, cozy home apt-studio in the h...   \n",
       "\n",
       "                                                 space  \\\n",
       "96   A cozy cottage behind a lovely Victorian house...   \n",
       "103  This beautiful home apartment studio is locate...   \n",
       "\n",
       "                                           description experiences_offered  \\\n",
       "96   A  cozy cottage behind a lovely Victorian hous...                none   \n",
       "103      Nice, clean, cozy home apt-studio in the h...                none   \n",
       "\n",
       "                                 neighborhood_overview  \\\n",
       "96   Ballard is a fantastic destination neighborhoo...   \n",
       "103  Ballard is a very nice neighborhood with lots ...   \n",
       "\n",
       "                                                 notes  \\\n",
       "96   Golden Gardens Park on Puget Sound is a mile a...   \n",
       "103                                                NaN   \n",
       "\n",
       "                                               transit  \\\n",
       "96   Convenient and frequent bus service to downtow...   \n",
       "103                                                NaN   \n",
       "\n",
       "                                         thumbnail_url  \\\n",
       "96   https://a1.muscache.com/ac/pictures/234452/3f9...   \n",
       "103  https://a0.muscache.com/ac/pictures/67825250/5...   \n",
       "\n",
       "                                            medium_url  \\\n",
       "96   https://a1.muscache.com/im/pictures/234452/3f9...   \n",
       "103  https://a0.muscache.com/im/pictures/67825250/5...   \n",
       "\n",
       "                                           picture_url  \\\n",
       "96   https://a1.muscache.com/ac/pictures/234452/3f9...   \n",
       "103  https://a0.muscache.com/ac/pictures/67825250/5...   \n",
       "\n",
       "                                        xl_picture_url  host_id  \\\n",
       "96   https://a1.muscache.com/ac/pictures/234452/3f9...    79450   \n",
       "103  https://a0.muscache.com/ac/pictures/67825250/5...  8403307   \n",
       "\n",
       "                                      host_url   host_name  host_since  \\\n",
       "96     https://www.airbnb.com/users/show/79450  Brad & Liz  2010-02-09   \n",
       "103  https://www.airbnb.com/users/show/8403307       Mario  2013-08-26   \n",
       "\n",
       "                          host_location  \\\n",
       "96   Seattle, Washington, United States   \n",
       "103  Seattle, Washington, United States   \n",
       "\n",
       "                                            host_about host_response_time  \\\n",
       "96   (Facebook+) Likes:\\r\\nLIZ: Drawing, Painting, ...     within an hour   \n",
       "103  Originally from Havana, Cuba where I was born ...     within an hour   \n",
       "\n",
       "    host_response_rate host_acceptance_rate host_is_superhost  \\\n",
       "96                100%                 100%                 t   \n",
       "103               100%                 100%                 t   \n",
       "\n",
       "                                    host_thumbnail_url  \\\n",
       "96   https://a1.muscache.com/ac/users/79450/profile...   \n",
       "103  https://a2.muscache.com/ac/users/8403307/profi...   \n",
       "\n",
       "                                      host_picture_url host_neighbourhood  \\\n",
       "96   https://a1.muscache.com/ac/users/79450/profile...            Ballard   \n",
       "103  https://a2.muscache.com/ac/users/8403307/profi...            Ballard   \n",
       "\n",
       "     host_listings_count  host_total_listings_count  \\\n",
       "96                   2.0                        2.0   \n",
       "103                  2.0                        2.0   \n",
       "\n",
       "                                    host_verifications host_has_profile_pic  \\\n",
       "96   ['email', 'phone', 'facebook', 'linkedin', 're...                    t   \n",
       "103  ['email', 'phone', 'facebook', 'reviews', 'jum...                    t   \n",
       "\n",
       "    host_identity_verified                                             street  \\\n",
       "96                       t       NW 60th St, Seattle, WA 98107, United States   \n",
       "103                      t  Northwest 64th Street, Seattle, WA 98107, Unit...   \n",
       "\n",
       "    neighbourhood neighbourhood_cleansed neighbourhood_group_cleansed  \\\n",
       "96        Ballard                  Adams                      Ballard   \n",
       "103       Ballard                  Adams                      Ballard   \n",
       "\n",
       "        city state zipcode   market smart_location country_code  \\\n",
       "96   Seattle    WA   98107  Seattle    Seattle, WA           US   \n",
       "103  Seattle    WA   98107  Seattle    Seattle, WA           US   \n",
       "\n",
       "           country   latitude  longitude is_location_exact property_type  \\\n",
       "96   United States  47.673339 -122.39512                 t         Cabin   \n",
       "103  United States  47.675822 -122.38971                 t         House   \n",
       "\n",
       "           room_type  accommodates  bathrooms  bedrooms  beds  bed_type  \\\n",
       "96   Entire home/apt             2        1.0       1.0   1.0     Futon   \n",
       "103  Entire home/apt             3        1.0       1.0   2.0  Real Bed   \n",
       "\n",
       "                                             amenities  square_feet   price  \\\n",
       "96   {TV,\"Cable TV\",Internet,\"Wireless Internet\",\"F...        400.0  $89.00   \n",
       "103  {TV,Internet,\"Wireless Internet\",Kitchen,\"Free...        485.0  $97.00   \n",
       "\n",
       "    weekly_price monthly_price security_deposit cleaning_fee  guests_included  \\\n",
       "96       $549.00           NaN              NaN       $10.00                2   \n",
       "103      $590.00     $1,795.00          $100.00       $45.00                2   \n",
       "\n",
       "    extra_people  minimum_nights  maximum_nights calendar_updated  \\\n",
       "96         $0.00               2              14            today   \n",
       "103       $10.00               2            1125            today   \n",
       "\n",
       "    has_availability  availability_30  availability_60  availability_90  \\\n",
       "96                 t               10               40               70   \n",
       "103                t               21               47               77   \n",
       "\n",
       "     availability_365 calendar_last_scraped  number_of_reviews first_review  \\\n",
       "96                341            2016-01-04                244   2010-07-04   \n",
       "103               340            2016-01-04                 44   2013-09-05   \n",
       "\n",
       "    last_review  review_scores_rating  review_scores_accuracy  \\\n",
       "96   2015-12-26                  97.0                    10.0   \n",
       "103  2015-12-21                  98.0                    10.0   \n",
       "\n",
       "     review_scores_cleanliness  review_scores_checkin  \\\n",
       "96                         9.0                   10.0   \n",
       "103                       10.0                   10.0   \n",
       "\n",
       "     review_scores_communication  review_scores_location  review_scores_value  \\\n",
       "96                          10.0                    10.0                 10.0   \n",
       "103                         10.0                    10.0                 10.0   \n",
       "\n",
       "    requires_license  license jurisdiction_names instant_bookable  \\\n",
       "96                 f      NaN         WASHINGTON                t   \n",
       "103                f      NaN         WASHINGTON                t   \n",
       "\n",
       "    cancellation_policy require_guest_profile_picture  \\\n",
       "96             moderate                             f   \n",
       "103              strict                             f   \n",
       "\n",
       "    require_guest_phone_verification  calculated_host_listings_count  \\\n",
       "96                                 f                               2   \n",
       "103                                f                               1   \n",
       "\n",
       "     reviews_per_month  \n",
       "96                3.64  \n",
       "103               1.55  "
      ]
     },
     "execution_count": 23,
     "metadata": {},
     "output_type": "execute_result"
    }
   ],
   "source": [
    "not_null_square_feet.head(2)"
   ]
  },
  {
   "cell_type": "code",
   "execution_count": 24,
   "metadata": {},
   "outputs": [],
   "source": [
    "def clean_price_column(x):\n",
    "    \"\"\"\n",
    "    Removes the $ value, and commas in a price value. \n",
    "    \n",
    "    Param: the value you wish to adjust\n",
    "    Type: String\n",
    "    Rtype: String\n",
    "    Retrun: String that allows the value to be type casted to a float\n",
    "    \"\"\"\n",
    "    return x.replace('$', '').replace(',','')"
   ]
  },
  {
   "cell_type": "code",
   "execution_count": 25,
   "metadata": {},
   "outputs": [
    {
     "name": "stderr",
     "output_type": "stream",
     "text": [
      "C:\\Users\\eliel\\Anaconda3\\lib\\site-packages\\ipykernel_launcher.py:1: SettingWithCopyWarning: \n",
      "A value is trying to be set on a copy of a slice from a DataFrame.\n",
      "Try using .loc[row_indexer,col_indexer] = value instead\n",
      "\n",
      "See the caveats in the documentation: http://pandas.pydata.org/pandas-docs/stable/user_guide/indexing.html#returning-a-view-versus-a-copy\n",
      "  \"\"\"Entry point for launching an IPython kernel.\n"
     ]
    },
    {
     "data": {
      "text/html": [
       "<div>\n",
       "<style scoped>\n",
       "    .dataframe tbody tr th:only-of-type {\n",
       "        vertical-align: middle;\n",
       "    }\n",
       "\n",
       "    .dataframe tbody tr th {\n",
       "        vertical-align: top;\n",
       "    }\n",
       "\n",
       "    .dataframe thead th {\n",
       "        text-align: right;\n",
       "    }\n",
       "</style>\n",
       "<table border=\"1\" class=\"dataframe\">\n",
       "  <thead>\n",
       "    <tr style=\"text-align: right;\">\n",
       "      <th></th>\n",
       "      <th>price</th>\n",
       "      <th>square_feet</th>\n",
       "    </tr>\n",
       "  </thead>\n",
       "  <tbody>\n",
       "    <tr>\n",
       "      <td>381</td>\n",
       "      <td>40.0</td>\n",
       "      <td>2000.0</td>\n",
       "    </tr>\n",
       "    <tr>\n",
       "      <td>1973</td>\n",
       "      <td>50.0</td>\n",
       "      <td>1300.0</td>\n",
       "    </tr>\n",
       "    <tr>\n",
       "      <td>3103</td>\n",
       "      <td>54.0</td>\n",
       "      <td>250.0</td>\n",
       "    </tr>\n",
       "    <tr>\n",
       "      <td>1997</td>\n",
       "      <td>55.0</td>\n",
       "      <td>1300.0</td>\n",
       "    </tr>\n",
       "    <tr>\n",
       "      <td>502</td>\n",
       "      <td>60.0</td>\n",
       "      <td>140.0</td>\n",
       "    </tr>\n",
       "    <tr>\n",
       "      <td>...</td>\n",
       "      <td>...</td>\n",
       "      <td>...</td>\n",
       "    </tr>\n",
       "    <tr>\n",
       "      <td>2634</td>\n",
       "      <td>325.0</td>\n",
       "      <td>1200.0</td>\n",
       "    </tr>\n",
       "    <tr>\n",
       "      <td>2824</td>\n",
       "      <td>360.0</td>\n",
       "      <td>1850.0</td>\n",
       "    </tr>\n",
       "    <tr>\n",
       "      <td>1863</td>\n",
       "      <td>370.0</td>\n",
       "      <td>3000.0</td>\n",
       "    </tr>\n",
       "    <tr>\n",
       "      <td>461</td>\n",
       "      <td>395.0</td>\n",
       "      <td>3000.0</td>\n",
       "    </tr>\n",
       "    <tr>\n",
       "      <td>2868</td>\n",
       "      <td>673.0</td>\n",
       "      <td>2600.0</td>\n",
       "    </tr>\n",
       "  </tbody>\n",
       "</table>\n",
       "<p>97 rows × 2 columns</p>\n",
       "</div>"
      ],
      "text/plain": [
       "      price  square_feet\n",
       "381    40.0       2000.0\n",
       "1973   50.0       1300.0\n",
       "3103   54.0        250.0\n",
       "1997   55.0       1300.0\n",
       "502    60.0        140.0\n",
       "...     ...          ...\n",
       "2634  325.0       1200.0\n",
       "2824  360.0       1850.0\n",
       "1863  370.0       3000.0\n",
       "461   395.0       3000.0\n",
       "2868  673.0       2600.0\n",
       "\n",
       "[97 rows x 2 columns]"
      ]
     },
     "execution_count": 25,
     "metadata": {},
     "output_type": "execute_result"
    }
   ],
   "source": [
    "not_null_square_feet['price'] = pd.to_numeric(not_null_square_feet['price'].str.replace('$',''))\n",
    "not_null_square_feet.sort_values(['price','square_feet'])[['price','square_feet']]"
   ]
  },
  {
   "cell_type": "code",
   "execution_count": 26,
   "metadata": {},
   "outputs": [
    {
     "data": {
      "text/html": [
       "<div>\n",
       "<style scoped>\n",
       "    .dataframe tbody tr th:only-of-type {\n",
       "        vertical-align: middle;\n",
       "    }\n",
       "\n",
       "    .dataframe tbody tr th {\n",
       "        vertical-align: top;\n",
       "    }\n",
       "\n",
       "    .dataframe thead th {\n",
       "        text-align: right;\n",
       "    }\n",
       "</style>\n",
       "<table border=\"1\" class=\"dataframe\">\n",
       "  <thead>\n",
       "    <tr style=\"text-align: right;\">\n",
       "      <th></th>\n",
       "      <th>id</th>\n",
       "      <th>listing_url</th>\n",
       "      <th>scrape_id</th>\n",
       "      <th>last_scraped</th>\n",
       "      <th>name</th>\n",
       "      <th>summary</th>\n",
       "      <th>space</th>\n",
       "      <th>description</th>\n",
       "      <th>experiences_offered</th>\n",
       "      <th>neighborhood_overview</th>\n",
       "      <th>notes</th>\n",
       "      <th>transit</th>\n",
       "      <th>thumbnail_url</th>\n",
       "      <th>medium_url</th>\n",
       "      <th>picture_url</th>\n",
       "      <th>xl_picture_url</th>\n",
       "      <th>host_id</th>\n",
       "      <th>host_url</th>\n",
       "      <th>host_name</th>\n",
       "      <th>host_since</th>\n",
       "      <th>host_location</th>\n",
       "      <th>host_about</th>\n",
       "      <th>host_response_time</th>\n",
       "      <th>host_response_rate</th>\n",
       "      <th>host_acceptance_rate</th>\n",
       "      <th>host_is_superhost</th>\n",
       "      <th>host_thumbnail_url</th>\n",
       "      <th>host_picture_url</th>\n",
       "      <th>host_neighbourhood</th>\n",
       "      <th>host_listings_count</th>\n",
       "      <th>host_total_listings_count</th>\n",
       "      <th>host_verifications</th>\n",
       "      <th>host_has_profile_pic</th>\n",
       "      <th>host_identity_verified</th>\n",
       "      <th>street</th>\n",
       "      <th>neighbourhood</th>\n",
       "      <th>neighbourhood_cleansed</th>\n",
       "      <th>neighbourhood_group_cleansed</th>\n",
       "      <th>city</th>\n",
       "      <th>state</th>\n",
       "      <th>zipcode</th>\n",
       "      <th>market</th>\n",
       "      <th>smart_location</th>\n",
       "      <th>country_code</th>\n",
       "      <th>country</th>\n",
       "      <th>latitude</th>\n",
       "      <th>longitude</th>\n",
       "      <th>is_location_exact</th>\n",
       "      <th>property_type</th>\n",
       "      <th>room_type</th>\n",
       "      <th>accommodates</th>\n",
       "      <th>bathrooms</th>\n",
       "      <th>bedrooms</th>\n",
       "      <th>beds</th>\n",
       "      <th>bed_type</th>\n",
       "      <th>amenities</th>\n",
       "      <th>square_feet</th>\n",
       "      <th>price</th>\n",
       "      <th>weekly_price</th>\n",
       "      <th>monthly_price</th>\n",
       "      <th>security_deposit</th>\n",
       "      <th>cleaning_fee</th>\n",
       "      <th>guests_included</th>\n",
       "      <th>extra_people</th>\n",
       "      <th>minimum_nights</th>\n",
       "      <th>maximum_nights</th>\n",
       "      <th>calendar_updated</th>\n",
       "      <th>has_availability</th>\n",
       "      <th>availability_30</th>\n",
       "      <th>availability_60</th>\n",
       "      <th>availability_90</th>\n",
       "      <th>availability_365</th>\n",
       "      <th>calendar_last_scraped</th>\n",
       "      <th>number_of_reviews</th>\n",
       "      <th>first_review</th>\n",
       "      <th>last_review</th>\n",
       "      <th>review_scores_rating</th>\n",
       "      <th>review_scores_accuracy</th>\n",
       "      <th>review_scores_cleanliness</th>\n",
       "      <th>review_scores_checkin</th>\n",
       "      <th>review_scores_communication</th>\n",
       "      <th>review_scores_location</th>\n",
       "      <th>review_scores_value</th>\n",
       "      <th>requires_license</th>\n",
       "      <th>license</th>\n",
       "      <th>jurisdiction_names</th>\n",
       "      <th>instant_bookable</th>\n",
       "      <th>cancellation_policy</th>\n",
       "      <th>require_guest_profile_picture</th>\n",
       "      <th>require_guest_phone_verification</th>\n",
       "      <th>calculated_host_listings_count</th>\n",
       "      <th>reviews_per_month</th>\n",
       "    </tr>\n",
       "  </thead>\n",
       "  <tbody>\n",
       "    <tr>\n",
       "      <td>658</td>\n",
       "      <td>639130</td>\n",
       "      <td>https://www.airbnb.com/rooms/639130</td>\n",
       "      <td>20160104002432</td>\n",
       "      <td>2016-01-04</td>\n",
       "      <td>Fabulous home for a family!</td>\n",
       "      <td>NaN</td>\n",
       "      <td>This is the perfect home for a family wanting ...</td>\n",
       "      <td>This is the perfect home for a family wanting ...</td>\n",
       "      <td>none</td>\n",
       "      <td>NaN</td>\n",
       "      <td>NaN</td>\n",
       "      <td>NaN</td>\n",
       "      <td>https://a2.muscache.com/ac/pictures/8225314/4d...</td>\n",
       "      <td>https://a2.muscache.com/im/pictures/8225314/4d...</td>\n",
       "      <td>https://a2.muscache.com/ac/pictures/8225314/4d...</td>\n",
       "      <td>https://a2.muscache.com/ac/pictures/8225314/4d...</td>\n",
       "      <td>3187723</td>\n",
       "      <td>https://www.airbnb.com/users/show/3187723</td>\n",
       "      <td>Ann</td>\n",
       "      <td>2012-08-07</td>\n",
       "      <td>Seattle, Washington, United States</td>\n",
       "      <td>Active family living in the heart of Seattle. ...</td>\n",
       "      <td>within a day</td>\n",
       "      <td>75%</td>\n",
       "      <td>NaN</td>\n",
       "      <td>f</td>\n",
       "      <td>https://a1.muscache.com/ac/users/3187723/profi...</td>\n",
       "      <td>https://a1.muscache.com/ac/users/3187723/profi...</td>\n",
       "      <td>Madrona</td>\n",
       "      <td>1.0</td>\n",
       "      <td>1.0</td>\n",
       "      <td>['email', 'phone', 'facebook', 'reviews', 'jum...</td>\n",
       "      <td>t</td>\n",
       "      <td>t</td>\n",
       "      <td>33rd Ave, Seattle, WA 98122, United States</td>\n",
       "      <td>Madrona</td>\n",
       "      <td>Madrona</td>\n",
       "      <td>Central Area</td>\n",
       "      <td>Seattle</td>\n",
       "      <td>WA</td>\n",
       "      <td>98122</td>\n",
       "      <td>Seattle</td>\n",
       "      <td>Seattle, WA</td>\n",
       "      <td>US</td>\n",
       "      <td>United States</td>\n",
       "      <td>47.609749</td>\n",
       "      <td>-122.290109</td>\n",
       "      <td>t</td>\n",
       "      <td>House</td>\n",
       "      <td>Entire home/apt</td>\n",
       "      <td>8</td>\n",
       "      <td>3.0</td>\n",
       "      <td>4.0</td>\n",
       "      <td>5.0</td>\n",
       "      <td>Real Bed</td>\n",
       "      <td>{TV,\"Cable TV\",Internet,\"Wireless Internet\",Ki...</td>\n",
       "      <td>3.0</td>\n",
       "      <td>195.0</td>\n",
       "      <td>$1,350.00</td>\n",
       "      <td>NaN</td>\n",
       "      <td>NaN</td>\n",
       "      <td>$100.00</td>\n",
       "      <td>1</td>\n",
       "      <td>$0.00</td>\n",
       "      <td>3</td>\n",
       "      <td>21</td>\n",
       "      <td>7 weeks ago</td>\n",
       "      <td>t</td>\n",
       "      <td>0</td>\n",
       "      <td>23</td>\n",
       "      <td>50</td>\n",
       "      <td>322</td>\n",
       "      <td>2016-01-04</td>\n",
       "      <td>2</td>\n",
       "      <td>2015-07-28</td>\n",
       "      <td>2015-09-07</td>\n",
       "      <td>80.0</td>\n",
       "      <td>9.0</td>\n",
       "      <td>7.0</td>\n",
       "      <td>8.0</td>\n",
       "      <td>9.0</td>\n",
       "      <td>10.0</td>\n",
       "      <td>10.0</td>\n",
       "      <td>f</td>\n",
       "      <td>NaN</td>\n",
       "      <td>WASHINGTON</td>\n",
       "      <td>f</td>\n",
       "      <td>strict</td>\n",
       "      <td>f</td>\n",
       "      <td>f</td>\n",
       "      <td>1</td>\n",
       "      <td>0.37</td>\n",
       "    </tr>\n",
       "  </tbody>\n",
       "</table>\n",
       "</div>"
      ],
      "text/plain": [
       "         id                          listing_url       scrape_id last_scraped  \\\n",
       "658  639130  https://www.airbnb.com/rooms/639130  20160104002432   2016-01-04   \n",
       "\n",
       "                            name summary  \\\n",
       "658  Fabulous home for a family!     NaN   \n",
       "\n",
       "                                                 space  \\\n",
       "658  This is the perfect home for a family wanting ...   \n",
       "\n",
       "                                           description experiences_offered  \\\n",
       "658  This is the perfect home for a family wanting ...                none   \n",
       "\n",
       "    neighborhood_overview notes transit  \\\n",
       "658                   NaN   NaN     NaN   \n",
       "\n",
       "                                         thumbnail_url  \\\n",
       "658  https://a2.muscache.com/ac/pictures/8225314/4d...   \n",
       "\n",
       "                                            medium_url  \\\n",
       "658  https://a2.muscache.com/im/pictures/8225314/4d...   \n",
       "\n",
       "                                           picture_url  \\\n",
       "658  https://a2.muscache.com/ac/pictures/8225314/4d...   \n",
       "\n",
       "                                        xl_picture_url  host_id  \\\n",
       "658  https://a2.muscache.com/ac/pictures/8225314/4d...  3187723   \n",
       "\n",
       "                                      host_url host_name  host_since  \\\n",
       "658  https://www.airbnb.com/users/show/3187723       Ann  2012-08-07   \n",
       "\n",
       "                          host_location  \\\n",
       "658  Seattle, Washington, United States   \n",
       "\n",
       "                                            host_about host_response_time  \\\n",
       "658  Active family living in the heart of Seattle. ...       within a day   \n",
       "\n",
       "    host_response_rate host_acceptance_rate host_is_superhost  \\\n",
       "658                75%                  NaN                 f   \n",
       "\n",
       "                                    host_thumbnail_url  \\\n",
       "658  https://a1.muscache.com/ac/users/3187723/profi...   \n",
       "\n",
       "                                      host_picture_url host_neighbourhood  \\\n",
       "658  https://a1.muscache.com/ac/users/3187723/profi...            Madrona   \n",
       "\n",
       "     host_listings_count  host_total_listings_count  \\\n",
       "658                  1.0                        1.0   \n",
       "\n",
       "                                    host_verifications host_has_profile_pic  \\\n",
       "658  ['email', 'phone', 'facebook', 'reviews', 'jum...                    t   \n",
       "\n",
       "    host_identity_verified                                      street  \\\n",
       "658                      t  33rd Ave, Seattle, WA 98122, United States   \n",
       "\n",
       "    neighbourhood neighbourhood_cleansed neighbourhood_group_cleansed  \\\n",
       "658       Madrona                Madrona                 Central Area   \n",
       "\n",
       "        city state zipcode   market smart_location country_code  \\\n",
       "658  Seattle    WA   98122  Seattle    Seattle, WA           US   \n",
       "\n",
       "           country   latitude   longitude is_location_exact property_type  \\\n",
       "658  United States  47.609749 -122.290109                 t         House   \n",
       "\n",
       "           room_type  accommodates  bathrooms  bedrooms  beds  bed_type  \\\n",
       "658  Entire home/apt             8        3.0       4.0   5.0  Real Bed   \n",
       "\n",
       "                                             amenities  square_feet  price  \\\n",
       "658  {TV,\"Cable TV\",Internet,\"Wireless Internet\",Ki...          3.0  195.0   \n",
       "\n",
       "    weekly_price monthly_price security_deposit cleaning_fee  guests_included  \\\n",
       "658    $1,350.00           NaN              NaN      $100.00                1   \n",
       "\n",
       "    extra_people  minimum_nights  maximum_nights calendar_updated  \\\n",
       "658        $0.00               3              21      7 weeks ago   \n",
       "\n",
       "    has_availability  availability_30  availability_60  availability_90  \\\n",
       "658                t                0               23               50   \n",
       "\n",
       "     availability_365 calendar_last_scraped  number_of_reviews first_review  \\\n",
       "658               322            2016-01-04                  2   2015-07-28   \n",
       "\n",
       "    last_review  review_scores_rating  review_scores_accuracy  \\\n",
       "658  2015-09-07                  80.0                     9.0   \n",
       "\n",
       "     review_scores_cleanliness  review_scores_checkin  \\\n",
       "658                        7.0                    8.0   \n",
       "\n",
       "     review_scores_communication  review_scores_location  review_scores_value  \\\n",
       "658                          9.0                    10.0                 10.0   \n",
       "\n",
       "    requires_license  license jurisdiction_names instant_bookable  \\\n",
       "658                f      NaN         WASHINGTON                f   \n",
       "\n",
       "    cancellation_policy require_guest_profile_picture  \\\n",
       "658              strict                             f   \n",
       "\n",
       "    require_guest_phone_verification  calculated_host_listings_count  \\\n",
       "658                                f                               1   \n",
       "\n",
       "     reviews_per_month  \n",
       "658               0.37  "
      ]
     },
     "execution_count": 26,
     "metadata": {},
     "output_type": "execute_result"
    }
   ],
   "source": [
    "not_null_square_feet[not_null_square_feet['square_feet'] == 3]"
   ]
  },
  {
   "cell_type": "code",
   "execution_count": 27,
   "metadata": {},
   "outputs": [
    {
     "data": {
      "text/plain": [
       "Text(0.5, 0, 'Square feet for rental')"
      ]
     },
     "execution_count": 27,
     "metadata": {},
     "output_type": "execute_result"
    },
    {
     "data": {
      "image/png": "[encoded data removed]",
      "text/plain": [
       "<Figure size 720x720 with 1 Axes>"
      ]
     },
     "metadata": {},
     "output_type": "display_data"
    }
   ],
   "source": [
    "sns.set(rc={'figure.figsize':(10,10)})\n",
    "sns.regplot(data=not_null_square_feet.sort_values(['price']),x='square_feet',y='price')\n",
    "plt.title(\"Regression line for price vs square feet\")\n",
    "plt.ylabel(\"Price for rental\")\n",
    "plt.xlabel(\"Square feet for rental\")"
   ]
  },
  {
   "cell_type": "markdown",
   "metadata": {},
   "source": [
    "Since there is only 97 rows with square feet not null <br>\n",
    "However, from the data present, there is a notable correlation between price and square feet noted both in the scatter plot. The other thing of note is the low values pushing the trend a little higher on he bottom. So we will remove those outliars in the dataset. "
   ]
  },
  {
   "cell_type": "code",
   "execution_count": 28,
   "metadata": {},
   "outputs": [
    {
     "data": {
      "text/plain": [
       "array([0.00e+00, 1.00e+00, 2.00e+00, 3.00e+00, 1.20e+02, 1.40e+02,\n",
       "       1.70e+02, 1.83e+02, 2.00e+02, 2.50e+02, 3.00e+02, 3.40e+02,\n",
       "       3.50e+02, 4.00e+02, 4.20e+02, 4.35e+02, 4.50e+02, 4.85e+02,\n",
       "       5.00e+02, 5.50e+02, 6.00e+02, 6.50e+02, 6.60e+02, 6.75e+02,\n",
       "       7.00e+02, 7.10e+02, 7.30e+02, 7.50e+02, 7.70e+02, 8.00e+02,\n",
       "       8.50e+02, 9.00e+02, 9.50e+02, 1.00e+03, 1.10e+03, 1.15e+03,\n",
       "       1.20e+03, 1.30e+03, 1.40e+03, 1.60e+03, 1.80e+03, 1.85e+03,\n",
       "       2.00e+03, 2.10e+03, 2.60e+03, 2.75e+03, 3.00e+03])"
      ]
     },
     "execution_count": 28,
     "metadata": {},
     "output_type": "execute_result"
    }
   ],
   "source": [
    "not_null_square_feet.sort_values('square_feet')['square_feet'].unique()"
   ]
  },
  {
   "cell_type": "code",
   "execution_count": 29,
   "metadata": {},
   "outputs": [],
   "source": [
    "outliar_values = [1.0, 2.0, 3.0, 4.0]\n",
    "removed_lower_limit_outliars = not_null_square_feet[~not_null_square_feet['square_feet'].isin(outliar_values)]"
   ]
  },
  {
   "cell_type": "code",
   "execution_count": 30,
   "metadata": {},
   "outputs": [
    {
     "data": {
      "text/plain": [
       "Text(0.5, 0, 'Square feet for rental')"
      ]
     },
     "execution_count": 30,
     "metadata": {},
     "output_type": "execute_result"
    },
    {
     "data": {
      "image/png": "[encoded data removed]",
      "text/plain": [
       "<Figure size 720x720 with 1 Axes>"
      ]
     },
     "metadata": {},
     "output_type": "display_data"
    }
   ],
   "source": [
    "sns.set(rc={'figure.figsize':(10,10)})\n",
    "sns.regplot(data=removed_lower_limit_outliars.sort_values(['price']), x='square_feet', y='price')\n",
    "plt.title(\"Regression line for price vs square feet\")\n",
    "plt.ylabel(\"Price for rental\")\n",
    "plt.xlabel(\"Square feet for rental\")"
   ]
  },
  {
   "cell_type": "markdown",
   "metadata": {},
   "source": [
    "What days are the most popular? Specifically Weekdays or Weekends?"
   ]
  },
  {
   "cell_type": "code",
   "execution_count": 31,
   "metadata": {},
   "outputs": [],
   "source": [
    "from datetime import datetime"
   ]
  },
  {
   "cell_type": "code",
   "execution_count": 32,
   "metadata": {},
   "outputs": [
    {
     "data": {
      "text/html": [
       "<div>\n",
       "<style scoped>\n",
       "    .dataframe tbody tr th:only-of-type {\n",
       "        vertical-align: middle;\n",
       "    }\n",
       "\n",
       "    .dataframe tbody tr th {\n",
       "        vertical-align: top;\n",
       "    }\n",
       "\n",
       "    .dataframe thead th {\n",
       "        text-align: right;\n",
       "    }\n",
       "</style>\n",
       "<table border=\"1\" class=\"dataframe\">\n",
       "  <thead>\n",
       "    <tr style=\"text-align: right;\">\n",
       "      <th></th>\n",
       "      <th>listing_id</th>\n",
       "      <th>date</th>\n",
       "      <th>available</th>\n",
       "      <th>price</th>\n",
       "    </tr>\n",
       "  </thead>\n",
       "  <tbody>\n",
       "    <tr>\n",
       "      <td>0</td>\n",
       "      <td>241032</td>\n",
       "      <td>2016-01-04</td>\n",
       "      <td>t</td>\n",
       "      <td>$85.00</td>\n",
       "    </tr>\n",
       "    <tr>\n",
       "      <td>1</td>\n",
       "      <td>241032</td>\n",
       "      <td>2016-01-05</td>\n",
       "      <td>t</td>\n",
       "      <td>$85.00</td>\n",
       "    </tr>\n",
       "    <tr>\n",
       "      <td>2</td>\n",
       "      <td>241032</td>\n",
       "      <td>2016-01-06</td>\n",
       "      <td>f</td>\n",
       "      <td>NaN</td>\n",
       "    </tr>\n",
       "    <tr>\n",
       "      <td>3</td>\n",
       "      <td>241032</td>\n",
       "      <td>2016-01-07</td>\n",
       "      <td>f</td>\n",
       "      <td>NaN</td>\n",
       "    </tr>\n",
       "    <tr>\n",
       "      <td>4</td>\n",
       "      <td>241032</td>\n",
       "      <td>2016-01-08</td>\n",
       "      <td>f</td>\n",
       "      <td>NaN</td>\n",
       "    </tr>\n",
       "    <tr>\n",
       "      <td>5</td>\n",
       "      <td>241032</td>\n",
       "      <td>2016-01-09</td>\n",
       "      <td>f</td>\n",
       "      <td>NaN</td>\n",
       "    </tr>\n",
       "    <tr>\n",
       "      <td>6</td>\n",
       "      <td>241032</td>\n",
       "      <td>2016-01-10</td>\n",
       "      <td>f</td>\n",
       "      <td>NaN</td>\n",
       "    </tr>\n",
       "    <tr>\n",
       "      <td>7</td>\n",
       "      <td>241032</td>\n",
       "      <td>2016-01-11</td>\n",
       "      <td>f</td>\n",
       "      <td>NaN</td>\n",
       "    </tr>\n",
       "    <tr>\n",
       "      <td>8</td>\n",
       "      <td>241032</td>\n",
       "      <td>2016-01-12</td>\n",
       "      <td>f</td>\n",
       "      <td>NaN</td>\n",
       "    </tr>\n",
       "    <tr>\n",
       "      <td>9</td>\n",
       "      <td>241032</td>\n",
       "      <td>2016-01-13</td>\n",
       "      <td>t</td>\n",
       "      <td>$85.00</td>\n",
       "    </tr>\n",
       "    <tr>\n",
       "      <td>10</td>\n",
       "      <td>241032</td>\n",
       "      <td>2016-01-14</td>\n",
       "      <td>t</td>\n",
       "      <td>$85.00</td>\n",
       "    </tr>\n",
       "    <tr>\n",
       "      <td>11</td>\n",
       "      <td>241032</td>\n",
       "      <td>2016-01-15</td>\n",
       "      <td>f</td>\n",
       "      <td>NaN</td>\n",
       "    </tr>\n",
       "    <tr>\n",
       "      <td>12</td>\n",
       "      <td>241032</td>\n",
       "      <td>2016-01-16</td>\n",
       "      <td>f</td>\n",
       "      <td>NaN</td>\n",
       "    </tr>\n",
       "    <tr>\n",
       "      <td>13</td>\n",
       "      <td>241032</td>\n",
       "      <td>2016-01-17</td>\n",
       "      <td>f</td>\n",
       "      <td>NaN</td>\n",
       "    </tr>\n",
       "    <tr>\n",
       "      <td>14</td>\n",
       "      <td>241032</td>\n",
       "      <td>2016-01-18</td>\n",
       "      <td>t</td>\n",
       "      <td>$85.00</td>\n",
       "    </tr>\n",
       "    <tr>\n",
       "      <td>15</td>\n",
       "      <td>241032</td>\n",
       "      <td>2016-01-19</td>\n",
       "      <td>t</td>\n",
       "      <td>$85.00</td>\n",
       "    </tr>\n",
       "    <tr>\n",
       "      <td>16</td>\n",
       "      <td>241032</td>\n",
       "      <td>2016-01-20</td>\n",
       "      <td>t</td>\n",
       "      <td>$85.00</td>\n",
       "    </tr>\n",
       "    <tr>\n",
       "      <td>17</td>\n",
       "      <td>241032</td>\n",
       "      <td>2016-01-21</td>\n",
       "      <td>f</td>\n",
       "      <td>NaN</td>\n",
       "    </tr>\n",
       "    <tr>\n",
       "      <td>18</td>\n",
       "      <td>241032</td>\n",
       "      <td>2016-01-22</td>\n",
       "      <td>f</td>\n",
       "      <td>NaN</td>\n",
       "    </tr>\n",
       "    <tr>\n",
       "      <td>19</td>\n",
       "      <td>241032</td>\n",
       "      <td>2016-01-23</td>\n",
       "      <td>f</td>\n",
       "      <td>NaN</td>\n",
       "    </tr>\n",
       "  </tbody>\n",
       "</table>\n",
       "</div>"
      ],
      "text/plain": [
       "    listing_id        date available   price\n",
       "0       241032  2016-01-04         t  $85.00\n",
       "1       241032  2016-01-05         t  $85.00\n",
       "2       241032  2016-01-06         f     NaN\n",
       "3       241032  2016-01-07         f     NaN\n",
       "4       241032  2016-01-08         f     NaN\n",
       "5       241032  2016-01-09         f     NaN\n",
       "6       241032  2016-01-10         f     NaN\n",
       "7       241032  2016-01-11         f     NaN\n",
       "8       241032  2016-01-12         f     NaN\n",
       "9       241032  2016-01-13         t  $85.00\n",
       "10      241032  2016-01-14         t  $85.00\n",
       "11      241032  2016-01-15         f     NaN\n",
       "12      241032  2016-01-16         f     NaN\n",
       "13      241032  2016-01-17         f     NaN\n",
       "14      241032  2016-01-18         t  $85.00\n",
       "15      241032  2016-01-19         t  $85.00\n",
       "16      241032  2016-01-20         t  $85.00\n",
       "17      241032  2016-01-21         f     NaN\n",
       "18      241032  2016-01-22         f     NaN\n",
       "19      241032  2016-01-23         f     NaN"
      ]
     },
     "execution_count": 32,
     "metadata": {},
     "output_type": "execute_result"
    }
   ],
   "source": [
    "calendar.head(20)"
   ]
  },
  {
   "cell_type": "code",
   "execution_count": 33,
   "metadata": {},
   "outputs": [],
   "source": [
    "date = datetime.strptime('2016-01-8', '%Y-%m-%d')"
   ]
  },
  {
   "cell_type": "code",
   "execution_count": 34,
   "metadata": {},
   "outputs": [
    {
     "name": "stdout",
     "output_type": "stream",
     "text": [
      "Weekday\n"
     ]
    }
   ],
   "source": [
    "if date.weekday() > 4: \n",
    "    print(\"Weekend\")\n",
    "else: print(\"Weekday\")"
   ]
  },
  {
   "cell_type": "code",
   "execution_count": 35,
   "metadata": {},
   "outputs": [],
   "source": [
    "def is_weekend(date_in):\n",
    "    \"\"\"\n",
    "    Retruns a boolean for if the time passed in is on the weekend or not. \n",
    "    Note is that Friday is considered a weekday under this rule, because it is a normal workday. \n",
    "    \n",
    "    Param: date: The string of the format YYYY-M-D representing a date.\n",
    "    Type: String\n",
    "    Rtype: Boolean\n",
    "    Return: True if the date passed in is on a weekend, and false if it is a weekday.  \n",
    "    \"\"\"\n",
    "    date = datetime.strptime(date_in, '%Y-%m-%d')\n",
    "    if date.weekday() > 4: \n",
    "        return True\n",
    "    return False"
   ]
  },
  {
   "cell_type": "code",
   "execution_count": 36,
   "metadata": {},
   "outputs": [],
   "source": [
    "calendar['weekend'] = calendar['date'].apply(is_weekend)"
   ]
  },
  {
   "cell_type": "code",
   "execution_count": 37,
   "metadata": {},
   "outputs": [
    {
     "data": {
      "text/plain": [
       "0          False\n",
       "1          False\n",
       "2           True\n",
       "3           True\n",
       "4           True\n",
       "           ...  \n",
       "1393565     True\n",
       "1393566     True\n",
       "1393567     True\n",
       "1393568     True\n",
       "1393569     True\n",
       "Name: price, Length: 1393570, dtype: bool"
      ]
     },
     "execution_count": 37,
     "metadata": {},
     "output_type": "execute_result"
    }
   ],
   "source": [
    "calendar['price'].isna()"
   ]
  },
  {
   "cell_type": "code",
   "execution_count": 38,
   "metadata": {},
   "outputs": [
    {
     "data": {
      "text/plain": [
       "array([nan], dtype=object)"
      ]
     },
     "execution_count": 38,
     "metadata": {},
     "output_type": "execute_result"
    }
   ],
   "source": [
    "calendar[calendar['available'] == 'f']['price'].unique()"
   ]
  },
  {
   "cell_type": "markdown",
   "metadata": {},
   "source": [
    "A note for price on nights that are unavialable is null. So we will only be able to analyze the price for if the listing is available for that day. "
   ]
  },
  {
   "cell_type": "code",
   "execution_count": 39,
   "metadata": {},
   "outputs": [],
   "source": [
    "available = calendar[calendar['available'] == 't']"
   ]
  },
  {
   "cell_type": "code",
   "execution_count": 40,
   "metadata": {},
   "outputs": [
    {
     "name": "stderr",
     "output_type": "stream",
     "text": [
      "C:\\Users\\eliel\\Anaconda3\\lib\\site-packages\\ipykernel_launcher.py:1: SettingWithCopyWarning: \n",
      "A value is trying to be set on a copy of a slice from a DataFrame.\n",
      "Try using .loc[row_indexer,col_indexer] = value instead\n",
      "\n",
      "See the caveats in the documentation: http://pandas.pydata.org/pandas-docs/stable/user_guide/indexing.html#returning-a-view-versus-a-copy\n",
      "  \"\"\"Entry point for launching an IPython kernel.\n"
     ]
    }
   ],
   "source": [
    "available['price'] = pd.to_numeric(available['price'].apply(clean_price_column))"
   ]
  },
  {
   "cell_type": "code",
   "execution_count": 41,
   "metadata": {},
   "outputs": [
    {
     "data": {
      "text/plain": [
       "137.94485855103355"
      ]
     },
     "execution_count": 41,
     "metadata": {},
     "output_type": "execute_result"
    }
   ],
   "source": [
    "available['price'].mean()"
   ]
  },
  {
   "cell_type": "code",
   "execution_count": 42,
   "metadata": {},
   "outputs": [],
   "source": [
    "available_weekends = available[(available['weekend'] == True)]\n",
    "available_weekdays = available[available['weekend'] == False]"
   ]
  },
  {
   "cell_type": "code",
   "execution_count": 43,
   "metadata": {},
   "outputs": [
    {
     "data": {
      "text/plain": [
       "139.81785498273783"
      ]
     },
     "execution_count": 43,
     "metadata": {},
     "output_type": "execute_result"
    }
   ],
   "source": [
    "available_weekends['price'].mean()"
   ]
  },
  {
   "cell_type": "code",
   "execution_count": 44,
   "metadata": {},
   "outputs": [
    {
     "data": {
      "text/plain": [
       "137.1988889105009"
      ]
     },
     "execution_count": 44,
     "metadata": {},
     "output_type": "execute_result"
    }
   ],
   "source": [
    "available_weekdays['price'].mean()"
   ]
  },
  {
   "cell_type": "markdown",
   "metadata": {},
   "source": [
    "Interesting that the mean for the whole dataset is closer to the mean for the weekdays, however this makes sense because of the number of weekdays compared to weekend days. "
   ]
  },
  {
   "cell_type": "code",
   "execution_count": 45,
   "metadata": {},
   "outputs": [
    {
     "data": {
      "text/plain": [
       "<matplotlib.axes._subplots.AxesSubplot at 0x20f2b09cb88>"
      ]
     },
     "execution_count": 45,
     "metadata": {},
     "output_type": "execute_result"
    },
    {
     "data": {
      "image/png": "[encoded data removed]",
      "text/plain": [
       "<Figure size 720x720 with 1 Axes>"
      ]
     },
     "metadata": {},
     "output_type": "display_data"
    }
   ],
   "source": [
    "available_weekends['price'].hist(bins=100)"
   ]
  },
  {
   "cell_type": "code",
   "execution_count": 46,
   "metadata": {},
   "outputs": [
    {
     "data": {
      "text/plain": [
       "count    266189.000000\n",
       "mean        139.817855\n",
       "std         105.893073\n",
       "min          20.000000\n",
       "25%          75.000000\n",
       "50%         110.000000\n",
       "75%         165.000000\n",
       "max        1650.000000\n",
       "Name: price, dtype: float64"
      ]
     },
     "execution_count": 46,
     "metadata": {},
     "output_type": "execute_result"
    }
   ],
   "source": [
    "available_weekends['price'].describe()"
   ]
  },
  {
   "cell_type": "markdown",
   "metadata": {},
   "source": [
    "#### Shows that the distibution has a lot of lower valued rooms available on the weekends. Seeming ot be lumping around the 100 range. "
   ]
  },
  {
   "cell_type": "code",
   "execution_count": 47,
   "metadata": {},
   "outputs": [],
   "source": [
    "import matplotlib.pyplot as plt"
   ]
  },
  {
   "cell_type": "code",
   "execution_count": 48,
   "metadata": {},
   "outputs": [
    {
     "data": {
      "text/plain": [
       "<matplotlib.axes._subplots.AxesSubplot at 0x20f2ba53688>"
      ]
     },
     "execution_count": 48,
     "metadata": {},
     "output_type": "execute_result"
    },
    {
     "data": {
      "image/png": "[encoded data removed]",
      "text/plain": [
       "<Figure size 720x720 with 1 Axes>"
      ]
     },
     "metadata": {},
     "output_type": "display_data"
    }
   ],
   "source": [
    "available[available['weekend'] == False]['price'].hist(bins=100, xlabelsize=10)"
   ]
  },
  {
   "cell_type": "code",
   "execution_count": 49,
   "metadata": {},
   "outputs": [
    {
     "data": {
      "text/plain": [
       "count    668353.000000\n",
       "mean        137.198889\n",
       "std         104.721140\n",
       "min          10.000000\n",
       "25%          75.000000\n",
       "50%         105.000000\n",
       "75%         160.000000\n",
       "max        1650.000000\n",
       "Name: price, dtype: float64"
      ]
     },
     "execution_count": 49,
     "metadata": {},
     "output_type": "execute_result"
    }
   ],
   "source": [
    "available_weekdays['price'].describe()"
   ]
  },
  {
   "cell_type": "markdown",
   "metadata": {},
   "source": [
    "#### Shows the same result at the previous histogram, and the describe function seems to validate with the 50% being 105. <br> \n",
    "These distributions seem to represent log scales. So next is to convert and see if that assumption is accurate."
   ]
  },
  {
   "cell_type": "code",
   "execution_count": 50,
   "metadata": {},
   "outputs": [
    {
     "name": "stderr",
     "output_type": "stream",
     "text": [
      "C:\\Users\\eliel\\Anaconda3\\lib\\site-packages\\ipykernel_launcher.py:2: SettingWithCopyWarning: \n",
      "A value is trying to be set on a copy of a slice from a DataFrame.\n",
      "Try using .loc[row_indexer,col_indexer] = value instead\n",
      "\n",
      "See the caveats in the documentation: http://pandas.pydata.org/pandas-docs/stable/user_guide/indexing.html#returning-a-view-versus-a-copy\n",
      "  \n"
     ]
    }
   ],
   "source": [
    "import math \n",
    "available_weekdays['Log Base 10 Price'] = available_weekdays['price'].apply(math.log10)"
   ]
  },
  {
   "cell_type": "code",
   "execution_count": 51,
   "metadata": {},
   "outputs": [
    {
     "data": {
      "text/plain": [
       "Text(0.5, 1.0, 'Log10 histogram of price on weekdays')"
      ]
     },
     "execution_count": 51,
     "metadata": {},
     "output_type": "execute_result"
    },
    {
     "data": {
      "image/png": "[encoded data removed]",
      "text/plain": [
       "<Figure size 720x720 with 1 Axes>"
      ]
     },
     "metadata": {},
     "output_type": "display_data"
    }
   ],
   "source": [
    "sns.histplot(available_weekdays, x=\"Log Base 10 Price\", bins=100).set_title('Log10 histogram of price on weekdays')"
   ]
  },
  {
   "cell_type": "markdown",
   "metadata": {},
   "source": [
    "#### Indeed, the distribution is log based"
   ]
  },
  {
   "cell_type": "code",
   "execution_count": 52,
   "metadata": {},
   "outputs": [
    {
     "data": {
      "text/plain": [
       "count    266189.000000\n",
       "mean        139.817855\n",
       "std         105.893073\n",
       "min          20.000000\n",
       "25%          75.000000\n",
       "50%         110.000000\n",
       "75%         165.000000\n",
       "max        1650.000000\n",
       "Name: price, dtype: float64"
      ]
     },
     "execution_count": 52,
     "metadata": {},
     "output_type": "execute_result"
    }
   ],
   "source": [
    "available_weekends['price'].describe()"
   ]
  },
  {
   "cell_type": "markdown",
   "metadata": {},
   "source": [
    "#### Curious if the weekend distribution is the same."
   ]
  },
  {
   "cell_type": "code",
   "execution_count": 53,
   "metadata": {},
   "outputs": [
    {
     "name": "stderr",
     "output_type": "stream",
     "text": [
      "C:\\Users\\eliel\\Anaconda3\\lib\\site-packages\\ipykernel_launcher.py:2: SettingWithCopyWarning: \n",
      "A value is trying to be set on a copy of a slice from a DataFrame.\n",
      "Try using .loc[row_indexer,col_indexer] = value instead\n",
      "\n",
      "See the caveats in the documentation: http://pandas.pydata.org/pandas-docs/stable/user_guide/indexing.html#returning-a-view-versus-a-copy\n",
      "  \n"
     ]
    }
   ],
   "source": [
    "import math \n",
    "available_weekends['Log Base 10 Price'] = available_weekends['price'].apply(math.log10)"
   ]
  },
  {
   "cell_type": "code",
   "execution_count": 54,
   "metadata": {},
   "outputs": [
    {
     "data": {
      "text/plain": [
       "Text(0.5, 1.0, 'Log10 histogram of price on weekends')"
      ]
     },
     "execution_count": 54,
     "metadata": {},
     "output_type": "execute_result"
    },
    {
     "data": {
      "image/png": "[encoded data removed]",
      "text/plain": [
       "<Figure size 720x720 with 1 Axes>"
      ]
     },
     "metadata": {},
     "output_type": "display_data"
    }
   ],
   "source": [
    "sns.histplot(available_weekends, x=\"Log Base 10 Price\", bins=100).set_title('Log10 histogram of price on weekends')"
   ]
  },
  {
   "cell_type": "markdown",
   "metadata": {},
   "source": [
    "### And indeed it looks that way as well. "
   ]
  },
  {
   "cell_type": "markdown",
   "metadata": {},
   "source": [
    "Now to investigate a little more of the distribution before doing data preparation for the modeling."
   ]
  },
  {
   "cell_type": "code",
   "execution_count": 55,
   "metadata": {},
   "outputs": [
    {
     "data": {
      "text/plain": [
       "0    150.0\n",
       "dtype: float64"
      ]
     },
     "execution_count": 55,
     "metadata": {},
     "output_type": "execute_result"
    }
   ],
   "source": [
    "available_weekends['price'].mode()"
   ]
  },
  {
   "cell_type": "code",
   "execution_count": 56,
   "metadata": {},
   "outputs": [
    {
     "data": {
      "text/plain": [
       "0    150.0\n",
       "dtype: float64"
      ]
     },
     "execution_count": 56,
     "metadata": {},
     "output_type": "execute_result"
    }
   ],
   "source": [
    "available_weekdays['price'].mode()"
   ]
  },
  {
   "cell_type": "code",
   "execution_count": 57,
   "metadata": {},
   "outputs": [
    {
     "data": {
      "text/plain": [
       "934542"
      ]
     },
     "execution_count": 57,
     "metadata": {},
     "output_type": "execute_result"
    }
   ],
   "source": [
    "len(calendar[calendar['available']=='t'])"
   ]
  },
  {
   "cell_type": "code",
   "execution_count": 58,
   "metadata": {},
   "outputs": [],
   "source": [
    "### Bonus: What does number of reviews compared to price look like? "
   ]
  },
  {
   "cell_type": "code",
   "execution_count": 59,
   "metadata": {},
   "outputs": [],
   "source": [
    "listings['price'] = listings['price'].apply(clean_price_column).astype('float64')"
   ]
  },
  {
   "cell_type": "code",
   "execution_count": 60,
   "metadata": {},
   "outputs": [
    {
     "data": {
      "text/plain": [
       "<matplotlib.axes._subplots.AxesSubplot at 0x20f29001688>"
      ]
     },
     "execution_count": 60,
     "metadata": {},
     "output_type": "execute_result"
    },
    {
     "data": {
      "image/png": "[encoded data removed]",
      "text/plain": [
       "<Figure size 720x720 with 1 Axes>"
      ]
     },
     "metadata": {},
     "output_type": "display_data"
    }
   ],
   "source": [
    "sns.scatterplot(data=listings, x='reviews_per_month', y='price')"
   ]
  },
  {
   "cell_type": "markdown",
   "metadata": {},
   "source": [
    "Just checking listing reviews because I was curious. I don't think that there is much to gleen from this except that the more rentals you have, it appears that you have lower prices for that property. Most likely due to the rental being available during the weekdays. The ones with less reviews per month are higher prices, meaning that they are most likely rentals that are on rentals available one the weekend. <br> \n",
    "Along with the fact that if there are that many reviews for one property that indicates that there are a lot of people visiting that property in a month. Or they have some sort of incentive for leaving a review. <br> \n",
    "Another option is review buffing by having the same person leave multiple reviews for the same property. "
   ]
  },
  {
   "cell_type": "markdown",
   "metadata": {},
   "source": [
    "# Section 3: Data Preparation  "
   ]
  },
  {
   "cell_type": "markdown",
   "metadata": {},
   "source": [
    "### What feature correlates to higher prices and create a model around it to analyze the coefficients for multiple variable analysis? <br> \n",
    "To start the data will have to be cleaned and then the information viewed to be described. "
   ]
  },
  {
   "cell_type": "code",
   "execution_count": 61,
   "metadata": {},
   "outputs": [],
   "source": [
    "#only grabbing the data that will fit the model at this moment. \n",
    "#If time allows I will add more data into the model to see if it affects the overall trend found from this analysis\n",
    "startingListings = listings.select_dtypes(include=['double','int'])"
   ]
  },
  {
   "cell_type": "code",
   "execution_count": 62,
   "metadata": {},
   "outputs": [],
   "source": [
    "# The goal is to predict price, so we will assign that to the y variable.\n",
    "y=listings['price']"
   ]
  },
  {
   "cell_type": "code",
   "execution_count": 63,
   "metadata": {},
   "outputs": [
    {
     "data": {
      "text/plain": [
       "0.9745940282870613"
      ]
     },
     "execution_count": 63,
     "metadata": {},
     "output_type": "execute_result"
    }
   ],
   "source": [
    "listings['square_feet'].isna().mean()"
   ]
  },
  {
   "cell_type": "markdown",
   "metadata": {},
   "source": [
    "Dropping latitude and longitude from the dataset, because they have unique values for the entire dataset, and could be trained to be a 1-1 relationship with price.<br> \n",
    "Also dropping license, because it has all null values for this dataset. <br> \n",
    "Finally, dropping square feet from the dataset, because of the significant number of null values. 97% null will sway the dataset weights for square feet given the method for filling na values. <br>\n",
    "The goal is to create a model for price and analyse the coef_ attribute to see what columns have a postive correlation to the price of the unit. "
   ]
  },
  {
   "cell_type": "code",
   "execution_count": 64,
   "metadata": {},
   "outputs": [],
   "source": [
    "x = startingListings.drop(['price','latitude','longitude','license','square_feet'],axis=1)"
   ]
  },
  {
   "cell_type": "code",
   "execution_count": 65,
   "metadata": {},
   "outputs": [
    {
     "data": {
      "text/plain": [
       "host_listings_count              2\n",
       "host_total_listings_count        2\n",
       "bathrooms                       16\n",
       "bedrooms                         6\n",
       "beds                             1\n",
       "review_scores_rating           647\n",
       "review_scores_accuracy         658\n",
       "review_scores_cleanliness      653\n",
       "review_scores_checkin          658\n",
       "review_scores_communication    651\n",
       "review_scores_location         655\n",
       "review_scores_value            656\n",
       "reviews_per_month              627\n",
       "dtype: int64"
      ]
     },
     "execution_count": 65,
     "metadata": {},
     "output_type": "execute_result"
    }
   ],
   "source": [
    "x.isna().sum()"
   ]
  },
  {
   "cell_type": "code",
   "execution_count": 66,
   "metadata": {},
   "outputs": [
    {
     "data": {
      "text/plain": [
       "(3818, 13)"
      ]
     },
     "execution_count": 66,
     "metadata": {},
     "output_type": "execute_result"
    }
   ],
   "source": [
    "x.shape"
   ]
  },
  {
   "cell_type": "code",
   "execution_count": 67,
   "metadata": {},
   "outputs": [
    {
     "data": {
      "text/html": [
       "<div>\n",
       "<style scoped>\n",
       "    .dataframe tbody tr th:only-of-type {\n",
       "        vertical-align: middle;\n",
       "    }\n",
       "\n",
       "    .dataframe tbody tr th {\n",
       "        vertical-align: top;\n",
       "    }\n",
       "\n",
       "    .dataframe thead th {\n",
       "        text-align: right;\n",
       "    }\n",
       "</style>\n",
       "<table border=\"1\" class=\"dataframe\">\n",
       "  <thead>\n",
       "    <tr style=\"text-align: right;\">\n",
       "      <th></th>\n",
       "      <th>host_listings_count</th>\n",
       "      <th>host_total_listings_count</th>\n",
       "      <th>bathrooms</th>\n",
       "      <th>bedrooms</th>\n",
       "      <th>beds</th>\n",
       "      <th>review_scores_rating</th>\n",
       "      <th>review_scores_accuracy</th>\n",
       "      <th>review_scores_cleanliness</th>\n",
       "      <th>review_scores_checkin</th>\n",
       "      <th>review_scores_communication</th>\n",
       "      <th>review_scores_location</th>\n",
       "      <th>review_scores_value</th>\n",
       "      <th>reviews_per_month</th>\n",
       "    </tr>\n",
       "  </thead>\n",
       "  <tbody>\n",
       "    <tr>\n",
       "      <td>count</td>\n",
       "      <td>3816.000000</td>\n",
       "      <td>3816.000000</td>\n",
       "      <td>3802.000000</td>\n",
       "      <td>3812.000000</td>\n",
       "      <td>3817.000000</td>\n",
       "      <td>3171.000000</td>\n",
       "      <td>3160.000000</td>\n",
       "      <td>3165.000000</td>\n",
       "      <td>3160.000000</td>\n",
       "      <td>3167.000000</td>\n",
       "      <td>3163.000000</td>\n",
       "      <td>3162.000000</td>\n",
       "      <td>3191.000000</td>\n",
       "    </tr>\n",
       "    <tr>\n",
       "      <td>mean</td>\n",
       "      <td>7.157757</td>\n",
       "      <td>7.157757</td>\n",
       "      <td>1.259469</td>\n",
       "      <td>1.307712</td>\n",
       "      <td>1.735394</td>\n",
       "      <td>94.539262</td>\n",
       "      <td>9.636392</td>\n",
       "      <td>9.556398</td>\n",
       "      <td>9.786709</td>\n",
       "      <td>9.809599</td>\n",
       "      <td>9.608916</td>\n",
       "      <td>9.452245</td>\n",
       "      <td>2.078919</td>\n",
       "    </tr>\n",
       "    <tr>\n",
       "      <td>std</td>\n",
       "      <td>28.628149</td>\n",
       "      <td>28.628149</td>\n",
       "      <td>0.590369</td>\n",
       "      <td>0.883395</td>\n",
       "      <td>1.139480</td>\n",
       "      <td>6.606083</td>\n",
       "      <td>0.698031</td>\n",
       "      <td>0.797274</td>\n",
       "      <td>0.595499</td>\n",
       "      <td>0.568211</td>\n",
       "      <td>0.629053</td>\n",
       "      <td>0.750259</td>\n",
       "      <td>1.822348</td>\n",
       "    </tr>\n",
       "    <tr>\n",
       "      <td>min</td>\n",
       "      <td>1.000000</td>\n",
       "      <td>1.000000</td>\n",
       "      <td>0.000000</td>\n",
       "      <td>0.000000</td>\n",
       "      <td>1.000000</td>\n",
       "      <td>20.000000</td>\n",
       "      <td>2.000000</td>\n",
       "      <td>3.000000</td>\n",
       "      <td>2.000000</td>\n",
       "      <td>2.000000</td>\n",
       "      <td>4.000000</td>\n",
       "      <td>2.000000</td>\n",
       "      <td>0.020000</td>\n",
       "    </tr>\n",
       "    <tr>\n",
       "      <td>25%</td>\n",
       "      <td>1.000000</td>\n",
       "      <td>1.000000</td>\n",
       "      <td>1.000000</td>\n",
       "      <td>1.000000</td>\n",
       "      <td>1.000000</td>\n",
       "      <td>93.000000</td>\n",
       "      <td>9.000000</td>\n",
       "      <td>9.000000</td>\n",
       "      <td>10.000000</td>\n",
       "      <td>10.000000</td>\n",
       "      <td>9.000000</td>\n",
       "      <td>9.000000</td>\n",
       "      <td>0.695000</td>\n",
       "    </tr>\n",
       "    <tr>\n",
       "      <td>50%</td>\n",
       "      <td>1.000000</td>\n",
       "      <td>1.000000</td>\n",
       "      <td>1.000000</td>\n",
       "      <td>1.000000</td>\n",
       "      <td>1.000000</td>\n",
       "      <td>96.000000</td>\n",
       "      <td>10.000000</td>\n",
       "      <td>10.000000</td>\n",
       "      <td>10.000000</td>\n",
       "      <td>10.000000</td>\n",
       "      <td>10.000000</td>\n",
       "      <td>10.000000</td>\n",
       "      <td>1.540000</td>\n",
       "    </tr>\n",
       "    <tr>\n",
       "      <td>75%</td>\n",
       "      <td>3.000000</td>\n",
       "      <td>3.000000</td>\n",
       "      <td>1.000000</td>\n",
       "      <td>2.000000</td>\n",
       "      <td>2.000000</td>\n",
       "      <td>99.000000</td>\n",
       "      <td>10.000000</td>\n",
       "      <td>10.000000</td>\n",
       "      <td>10.000000</td>\n",
       "      <td>10.000000</td>\n",
       "      <td>10.000000</td>\n",
       "      <td>10.000000</td>\n",
       "      <td>3.000000</td>\n",
       "    </tr>\n",
       "    <tr>\n",
       "      <td>max</td>\n",
       "      <td>502.000000</td>\n",
       "      <td>502.000000</td>\n",
       "      <td>8.000000</td>\n",
       "      <td>7.000000</td>\n",
       "      <td>15.000000</td>\n",
       "      <td>100.000000</td>\n",
       "      <td>10.000000</td>\n",
       "      <td>10.000000</td>\n",
       "      <td>10.000000</td>\n",
       "      <td>10.000000</td>\n",
       "      <td>10.000000</td>\n",
       "      <td>10.000000</td>\n",
       "      <td>12.150000</td>\n",
       "    </tr>\n",
       "  </tbody>\n",
       "</table>\n",
       "</div>"
      ],
      "text/plain": [
       "       host_listings_count  host_total_listings_count    bathrooms  \\\n",
       "count          3816.000000                3816.000000  3802.000000   \n",
       "mean              7.157757                   7.157757     1.259469   \n",
       "std              28.628149                  28.628149     0.590369   \n",
       "min               1.000000                   1.000000     0.000000   \n",
       "25%               1.000000                   1.000000     1.000000   \n",
       "50%               1.000000                   1.000000     1.000000   \n",
       "75%               3.000000                   3.000000     1.000000   \n",
       "max             502.000000                 502.000000     8.000000   \n",
       "\n",
       "          bedrooms         beds  review_scores_rating  review_scores_accuracy  \\\n",
       "count  3812.000000  3817.000000           3171.000000             3160.000000   \n",
       "mean      1.307712     1.735394             94.539262                9.636392   \n",
       "std       0.883395     1.139480              6.606083                0.698031   \n",
       "min       0.000000     1.000000             20.000000                2.000000   \n",
       "25%       1.000000     1.000000             93.000000                9.000000   \n",
       "50%       1.000000     1.000000             96.000000               10.000000   \n",
       "75%       2.000000     2.000000             99.000000               10.000000   \n",
       "max       7.000000    15.000000            100.000000               10.000000   \n",
       "\n",
       "       review_scores_cleanliness  review_scores_checkin  \\\n",
       "count                3165.000000            3160.000000   \n",
       "mean                    9.556398               9.786709   \n",
       "std                     0.797274               0.595499   \n",
       "min                     3.000000               2.000000   \n",
       "25%                     9.000000              10.000000   \n",
       "50%                    10.000000              10.000000   \n",
       "75%                    10.000000              10.000000   \n",
       "max                    10.000000              10.000000   \n",
       "\n",
       "       review_scores_communication  review_scores_location  \\\n",
       "count                  3167.000000             3163.000000   \n",
       "mean                      9.809599                9.608916   \n",
       "std                       0.568211                0.629053   \n",
       "min                       2.000000                4.000000   \n",
       "25%                      10.000000                9.000000   \n",
       "50%                      10.000000               10.000000   \n",
       "75%                      10.000000               10.000000   \n",
       "max                      10.000000               10.000000   \n",
       "\n",
       "       review_scores_value  reviews_per_month  \n",
       "count          3162.000000        3191.000000  \n",
       "mean              9.452245           2.078919  \n",
       "std               0.750259           1.822348  \n",
       "min               2.000000           0.020000  \n",
       "25%               9.000000           0.695000  \n",
       "50%              10.000000           1.540000  \n",
       "75%              10.000000           3.000000  \n",
       "max              10.000000          12.150000  "
      ]
     },
     "execution_count": 67,
     "metadata": {},
     "output_type": "execute_result"
    }
   ],
   "source": [
    "x.describe()"
   ]
  },
  {
   "cell_type": "code",
   "execution_count": 68,
   "metadata": {},
   "outputs": [],
   "source": [
    "# Given the number of na values in the dataset, it makes sense to add fill the nas with values that doesn't make sense for the model. \n",
    "# If we removed all na values, there would not be much of a dataset for modeling.\n",
    "filled_na = x.fillna(-1)"
   ]
  },
  {
   "cell_type": "code",
   "execution_count": 69,
   "metadata": {},
   "outputs": [],
   "source": [
    "x_train, x_test, y_train, y_test = train_test_split(filled_na, y, test_size=.33, random_state=42)"
   ]
  },
  {
   "cell_type": "markdown",
   "metadata": {},
   "source": [
    "# Section 4: Modeling"
   ]
  },
  {
   "cell_type": "markdown",
   "metadata": {},
   "source": [
    "Continuing the duscussion above for finding a linear regression model for price and what values help predict price. "
   ]
  },
  {
   "cell_type": "code",
   "execution_count": 70,
   "metadata": {},
   "outputs": [],
   "source": [
    "from sklearn import linear_model\n",
    "reg = linear_model.LinearRegression()"
   ]
  },
  {
   "cell_type": "code",
   "execution_count": 71,
   "metadata": {},
   "outputs": [
    {
     "data": {
      "text/plain": [
       "LinearRegression(copy_X=True, fit_intercept=True, n_jobs=None, normalize=False)"
      ]
     },
     "execution_count": 71,
     "metadata": {},
     "output_type": "execute_result"
    }
   ],
   "source": [
    "reg.fit(x_train, y_train)"
   ]
  },
  {
   "cell_type": "code",
   "execution_count": 72,
   "metadata": {},
   "outputs": [],
   "source": [
    "pred = reg.predict(x_test)"
   ]
  },
  {
   "cell_type": "code",
   "execution_count": 73,
   "metadata": {},
   "outputs": [
    {
     "data": {
      "text/plain": [
       "array([  0.03342681,   0.03342681,  28.4424045 ,  29.96963132,\n",
       "        21.02603383,   0.1168923 ,   4.52581006,   5.75502968,\n",
       "        -4.92773351,  -3.28975899,  11.1647878 , -13.63486789,\n",
       "        -4.23869031])"
      ]
     },
     "execution_count": 73,
     "metadata": {},
     "output_type": "execute_result"
    }
   ],
   "source": [
    "reg.coef_"
   ]
  },
  {
   "cell_type": "markdown",
   "metadata": {},
   "source": [
    "Based on the coefficients for the logistical model, it looks like the three highest attributes to determine price is bathrooms, bedrooms and beds. "
   ]
  },
  {
   "cell_type": "code",
   "execution_count": 74,
   "metadata": {},
   "outputs": [
    {
     "data": {
      "text/plain": [
       "LinearRegression(copy_X=True, fit_intercept=True, n_jobs=None, normalize=False)"
      ]
     },
     "execution_count": 74,
     "metadata": {},
     "output_type": "execute_result"
    }
   ],
   "source": [
    "reg2 = linear_model.LinearRegression()\n",
    "reg2.fit(filled_na, y)"
   ]
  },
  {
   "cell_type": "code",
   "execution_count": 75,
   "metadata": {},
   "outputs": [
    {
     "data": {
      "text/plain": [
       "array([  0.03759902,   0.03759902,  25.64246268,  33.4590039 ,\n",
       "        18.91091786,   0.28076261,   4.35812354,   4.07854679,\n",
       "        -3.08484173,  -5.60560729,  11.93633333, -13.5410611 ,\n",
       "        -3.89592605])"
      ]
     },
     "execution_count": 75,
     "metadata": {},
     "output_type": "execute_result"
    }
   ],
   "source": [
    "reg2.coef_"
   ]
  },
  {
   "cell_type": "markdown",
   "metadata": {},
   "source": [
    "# Section 5: Evaluation"
   ]
  },
  {
   "cell_type": "markdown",
   "metadata": {},
   "source": [
    "## 1. Does having more pictures of the house correspond to higher overall reviews or prices for the location? \n",
    "   1. Which ones have a better correlation to the higher review?\n",
    "      1. After some review it appears there is a good coorelation between including pictures and ratings.\n",
    "      2. This could be just reflecting the overall distribution of reviews for the data though without showing any clear signs of one being better than the other.      "
   ]
  },
  {
   "cell_type": "code",
   "execution_count": 76,
   "metadata": {},
   "outputs": [
    {
     "data": {
      "text/plain": [
       "Text(0.5, 1.0, 'Histogram of review scores')"
      ]
     },
     "execution_count": 76,
     "metadata": {},
     "output_type": "execute_result"
    },
    {
     "data": {
      "image/png": "[encoded data removed]",
      "text/plain": [
       "<Figure size 720x720 with 1 Axes>"
      ]
     },
     "metadata": {},
     "output_type": "display_data"
    }
   ],
   "source": [
    "listings['review_scores_value'].hist()\n",
    "plt.xlabel(\"Review score values\")\n",
    "plt.ylabel(\"Count of that review score\")\n",
    "plt.title(\"Histogram of review scores\")"
   ]
  },
  {
   "cell_type": "markdown",
   "metadata": {},
   "source": [
    "This picture shows the overall review scores distribution for the data. "
   ]
  },
  {
   "cell_type": "code",
   "execution_count": 77,
   "metadata": {},
   "outputs": [
    {
     "data": {
      "text/plain": [
       "Text(156.5, 0.5, 'Listing posting contains pictures.')"
      ]
     },
     "execution_count": 77,
     "metadata": {},
     "output_type": "execute_result"
    },
    {
     "data": {
      "image/png": "[encoded data removed]",
      "text/plain": [
       "<Figure size 1440x360 with 2 Axes>"
      ]
     },
     "metadata": {},
     "output_type": "display_data"
    }
   ],
   "source": [
    "sns.set(rc={'figure.figsize':(20,5)})\n",
    "sns.heatmap(dataForPictureHeatmap,annot=True).set_ylim([0,2])\n",
    "plt.title('Heatmap of distribution of review scores vs if the listing contains pictures.')\n",
    "plt.xlabel(\"Review Scores for listing.\")\n",
    "plt.ylabel(\"Listing posting contains pictures.\")"
   ]
  },
  {
   "cell_type": "markdown",
   "metadata": {},
   "source": [
    "This is a heatmap of the review scores vs if they contain pictures. This visualization shows that there is a significant more amount of reviews containing pictures than not. However the distribution for no pictures drops off significantly at 8s, while reviews for listings with pictures drop off around review scores of 7."
   ]
  },
  {
   "cell_type": "markdown",
   "metadata": {},
   "source": [
    "## 2. Is square feet correlated to price?  \n",
    "   1. Since there is only 97 rows with square feet not null, this questions will be excluded from investigation\n",
    "   2. However, from the data present, there isn't any notable correlation between price and square feet"
   ]
  },
  {
   "cell_type": "code",
   "execution_count": 78,
   "metadata": {},
   "outputs": [
    {
     "data": {
      "text/plain": [
       "Text(0.5, 0, 'Square feet for rental')"
      ]
     },
     "execution_count": 78,
     "metadata": {},
     "output_type": "execute_result"
    },
    {
     "data": {
      "image/png": "[encoded data removed]",
      "text/plain": [
       "<Figure size 720x720 with 1 Axes>"
      ]
     },
     "metadata": {},
     "output_type": "display_data"
    }
   ],
   "source": [
    "sns.set(rc={'figure.figsize':(10,10)})\n",
    "sns.regplot(data=not_null_square_feet.sort_values(['price']),x='square_feet',y='price')\n",
    "plt.title(\"Regression line for price vs square feet\")\n",
    "plt.ylabel(\"Price for rental\")\n",
    "plt.xlabel(\"Square feet for rental\")"
   ]
  },
  {
   "cell_type": "markdown",
   "metadata": {},
   "source": [
    "This plot showing square feet and price for rentals have an overall upward trend, even with some outliars. There is also a note about the square feet less than 100 and with prices that are fairly high for a night stay. These values pull the trend line down. This chart also has square feet of 0,1,2 ft^2 removed as well. However, dispite that, there is a correlation between square feet and rental price. Another note about this graph is that there isn't a ton of points, compared to the whole dataset (N ~ 100). "
   ]
  },
  {
   "cell_type": "markdown",
   "metadata": {},
   "source": [
    "### 3. What feature correlates to higher prices? \n",
    "   1. Based on the coefficients for the linear model, it looks like the three highest attributes to determine price is bathrooms, bedrooms and beds."
   ]
  },
  {
   "cell_type": "code",
   "execution_count": 79,
   "metadata": {},
   "outputs": [],
   "source": [
    "linear_model_coef = pd.DataFrame()\n",
    "linear_model_coef['columns'] = x.columns\n",
    "linear_model_coef['coef'] = reg2.coef_\n",
    "linear_model_coef['annotation'] = reg2.coef_"
   ]
  },
  {
   "cell_type": "code",
   "execution_count": 80,
   "metadata": {},
   "outputs": [
    {
     "data": {
      "text/html": [
       "<div>\n",
       "<style scoped>\n",
       "    .dataframe tbody tr th:only-of-type {\n",
       "        vertical-align: middle;\n",
       "    }\n",
       "\n",
       "    .dataframe tbody tr th {\n",
       "        vertical-align: top;\n",
       "    }\n",
       "\n",
       "    .dataframe thead th {\n",
       "        text-align: right;\n",
       "    }\n",
       "</style>\n",
       "<table border=\"1\" class=\"dataframe\">\n",
       "  <thead>\n",
       "    <tr style=\"text-align: right;\">\n",
       "      <th></th>\n",
       "      <th>columns</th>\n",
       "      <th>coef</th>\n",
       "    </tr>\n",
       "  </thead>\n",
       "  <tbody>\n",
       "    <tr>\n",
       "      <td>0</td>\n",
       "      <td>host_listings_count</td>\n",
       "      <td>0.037599</td>\n",
       "    </tr>\n",
       "    <tr>\n",
       "      <td>1</td>\n",
       "      <td>host_total_listings_count</td>\n",
       "      <td>0.037599</td>\n",
       "    </tr>\n",
       "    <tr>\n",
       "      <td>2</td>\n",
       "      <td>bathrooms</td>\n",
       "      <td>25.642463</td>\n",
       "    </tr>\n",
       "    <tr>\n",
       "      <td>3</td>\n",
       "      <td>bedrooms</td>\n",
       "      <td>33.459004</td>\n",
       "    </tr>\n",
       "    <tr>\n",
       "      <td>4</td>\n",
       "      <td>beds</td>\n",
       "      <td>18.910918</td>\n",
       "    </tr>\n",
       "    <tr>\n",
       "      <td>5</td>\n",
       "      <td>review_scores_rating</td>\n",
       "      <td>0.280763</td>\n",
       "    </tr>\n",
       "    <tr>\n",
       "      <td>6</td>\n",
       "      <td>review_scores_accuracy</td>\n",
       "      <td>4.358124</td>\n",
       "    </tr>\n",
       "    <tr>\n",
       "      <td>7</td>\n",
       "      <td>review_scores_cleanliness</td>\n",
       "      <td>4.078547</td>\n",
       "    </tr>\n",
       "    <tr>\n",
       "      <td>8</td>\n",
       "      <td>review_scores_checkin</td>\n",
       "      <td>-3.084842</td>\n",
       "    </tr>\n",
       "    <tr>\n",
       "      <td>9</td>\n",
       "      <td>review_scores_communication</td>\n",
       "      <td>-5.605607</td>\n",
       "    </tr>\n",
       "    <tr>\n",
       "      <td>10</td>\n",
       "      <td>review_scores_location</td>\n",
       "      <td>11.936333</td>\n",
       "    </tr>\n",
       "    <tr>\n",
       "      <td>11</td>\n",
       "      <td>review_scores_value</td>\n",
       "      <td>-13.541061</td>\n",
       "    </tr>\n",
       "    <tr>\n",
       "      <td>12</td>\n",
       "      <td>reviews_per_month</td>\n",
       "      <td>-3.895926</td>\n",
       "    </tr>\n",
       "  </tbody>\n",
       "</table>\n",
       "</div>"
      ],
      "text/plain": [
       "                        columns       coef\n",
       "0           host_listings_count   0.037599\n",
       "1     host_total_listings_count   0.037599\n",
       "2                     bathrooms  25.642463\n",
       "3                      bedrooms  33.459004\n",
       "4                          beds  18.910918\n",
       "5          review_scores_rating   0.280763\n",
       "6        review_scores_accuracy   4.358124\n",
       "7     review_scores_cleanliness   4.078547\n",
       "8         review_scores_checkin  -3.084842\n",
       "9   review_scores_communication  -5.605607\n",
       "10       review_scores_location  11.936333\n",
       "11          review_scores_value -13.541061\n",
       "12            reviews_per_month  -3.895926"
      ]
     },
     "execution_count": 80,
     "metadata": {},
     "output_type": "execute_result"
    }
   ],
   "source": [
    "linear_model_coef[['columns','coef']]"
   ]
  },
  {
   "cell_type": "code",
   "execution_count": 81,
   "metadata": {},
   "outputs": [
    {
     "data": {
      "image/png": "[encoded data removed]",
      "text/plain": [
       "<Figure size 720x720 with 1 Axes>"
      ]
     },
     "metadata": {},
     "output_type": "display_data"
    }
   ],
   "source": [
    "plot = sns.barplot(x='coef', y='columns', data=linear_model_coef.sort_values('coef'))"
   ]
  },
  {
   "cell_type": "markdown",
   "metadata": {},
   "source": [
    "From the table, it is apparent that the best correlations to bedrooms, bathrooms, beds, review_scores_location, and the negative correlation is review_scores_value. "
   ]
  },
  {
   "cell_type": "markdown",
   "metadata": {},
   "source": [
    "### 4. What feature correlate to higher overall review ratings? "
   ]
  },
  {
   "cell_type": "markdown",
   "metadata": {},
   "source": [
    "See visual from 3 and analysis from 3. "
   ]
  },
  {
   "cell_type": "markdown",
   "metadata": {},
   "source": [
    "### 5. What days are the most popular? Specifically Weekdays or Weekends? \n",
    "   1. The data suggests that there is a correlation to the weekends having higher base rate for most of the stats. "
   ]
  },
  {
   "cell_type": "code",
   "execution_count": 82,
   "metadata": {},
   "outputs": [
    {
     "data": {
      "text/plain": [
       "Text(0, 0.5, 'Count')"
      ]
     },
     "execution_count": 82,
     "metadata": {},
     "output_type": "execute_result"
    },
    {
     "data": {
      "image/png": "[encoded data removed]",
      "text/plain": [
       "<Figure size 720x720 with 1 Axes>"
      ]
     },
     "metadata": {},
     "output_type": "display_data"
    }
   ],
   "source": [
    "available_weekends['price'].hist(bins=100)\n",
    "plt.xlabel('Weekend price')\n",
    "plt.ylabel('Count')"
   ]
  },
  {
   "cell_type": "markdown",
   "metadata": {},
   "source": [
    "Histogram of the weekend price showing that there is a huge spike of prices at the lower end of the dataset. With the distribution being: "
   ]
  },
  {
   "cell_type": "code",
   "execution_count": 83,
   "metadata": {},
   "outputs": [
    {
     "data": {
      "text/plain": [
       "count    266189.000000\n",
       "mean        139.817855\n",
       "std         105.893073\n",
       "min          20.000000\n",
       "25%          75.000000\n",
       "50%         110.000000\n",
       "75%         165.000000\n",
       "max        1650.000000\n",
       "Name: price, dtype: float64"
      ]
     },
     "execution_count": 83,
     "metadata": {},
     "output_type": "execute_result"
    }
   ],
   "source": [
    "available_weekends['price'].describe()"
   ]
  },
  {
   "cell_type": "code",
   "execution_count": 84,
   "metadata": {},
   "outputs": [
    {
     "data": {
      "text/plain": [
       "0    150.0\n",
       "dtype: float64"
      ]
     },
     "execution_count": 84,
     "metadata": {},
     "output_type": "execute_result"
    }
   ],
   "source": [
    "available_weekends['price'].mode()"
   ]
  },
  {
   "cell_type": "code",
   "execution_count": 85,
   "metadata": {},
   "outputs": [
    {
     "data": {
      "text/plain": [
       "<matplotlib.axes._subplots.AxesSubplot at 0x20f37ded148>"
      ]
     },
     "execution_count": 85,
     "metadata": {},
     "output_type": "execute_result"
    },
    {
     "data": {
      "image/png": "[encoded data removed]",
      "text/plain": [
       "<Figure size 720x720 with 1 Axes>"
      ]
     },
     "metadata": {},
     "output_type": "display_data"
    }
   ],
   "source": [
    "available_weekdays['price'].hist(bins=100, xlabelsize=10)"
   ]
  },
  {
   "cell_type": "code",
   "execution_count": 86,
   "metadata": {},
   "outputs": [
    {
     "data": {
      "text/plain": [
       "count    668353.000000\n",
       "mean        137.198889\n",
       "std         104.721140\n",
       "min          10.000000\n",
       "25%          75.000000\n",
       "50%         105.000000\n",
       "75%         160.000000\n",
       "max        1650.000000\n",
       "Name: price, dtype: float64"
      ]
     },
     "execution_count": 86,
     "metadata": {},
     "output_type": "execute_result"
    }
   ],
   "source": [
    "available_weekdays['price'].describe()"
   ]
  },
  {
   "cell_type": "code",
   "execution_count": 87,
   "metadata": {},
   "outputs": [
    {
     "data": {
      "text/plain": [
       "0    150.0\n",
       "dtype: float64"
      ]
     },
     "execution_count": 87,
     "metadata": {},
     "output_type": "execute_result"
    }
   ],
   "source": [
    "available_weekdays['price'].mode()"
   ]
  },
  {
   "cell_type": "markdown",
   "metadata": {},
   "source": [
    "Based on the summary statistics for these distributions, the mean is more on the weekend, and most of the distribution is scued up on the weekend based on the 50th and 75th percent. So, overall the prices tend to be higher on the weekends. "
   ]
  },
  {
   "cell_type": "markdown",
   "metadata": {},
   "source": [
    "### 6. Does higher review count correspond to higher prices on the location? "
   ]
  },
  {
   "cell_type": "markdown",
   "metadata": {},
   "source": [
    "Based on the review from 3, it does not appear so. Actually the review scores negatively attribute to price. I believe this is because of the number of highly rated properties and listings in the dataset. "
   ]
  },
  {
   "cell_type": "markdown",
   "metadata": {},
   "source": [
    "### 7. Does not having a picture correlate to not having a review?\n",
    "   1. It does not. There is a good portion of na reviews that have pictures. I again believe that this has something to do with the overall distribution of the data for the dataset."
   ]
  },
  {
   "cell_type": "code",
   "execution_count": null,
   "metadata": {},
   "outputs": [],
   "source": []
  }
 ],
 "metadata": {
  "kernelspec": {
   "display_name": "Python 3",
   "language": "python",
   "name": "python3"
  },
  "language_info": {
   "codemirror_mode": {
    "name": "ipython",
    "version": 3
   },
   "file_extension": ".py",
   "mimetype": "text/x-python",
   "name": "python",
   "nbconvert_exporter": "python",
   "pygments_lexer": "ipython3",
   "version": "3.7.4"
  }
 },
 "nbformat": 4,
 "nbformat_minor": 4
}
