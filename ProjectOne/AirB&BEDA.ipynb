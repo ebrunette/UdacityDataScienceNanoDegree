{
 "cells": [
  {
   "cell_type": "code",
   "execution_count": null,
   "metadata": {},
   "outputs": [],
   "source": [
    "import pandas as pd\n",
    "pd.set_option('display.max_columns', None)\n",
    "import seaborn as sns\n",
    "import matplotlib.pyplot as plt\n",
    "import numpy as np\n",
    "from sklearn.model_selection import train_test_split"
   ]
  },
  {
   "cell_type": "markdown",
   "metadata": {},
   "source": [
    "# Article that was published on [Medium](https://elibrunette.medium.com/factors-to-increase-rental-prices-for-airbnb-6a4cbb928e0d) discussing interesting information from analysis."
   ]
  },
  {
   "cell_type": "markdown",
   "metadata": {},
   "source": [
    "# Section 1: Business Understanding"
   ]
  },
  {
   "cell_type": "markdown",
   "metadata": {},
   "source": [
    "#### The purpose of this project is to find insight in the dataset for AirBnB datasets. A few questions that would be interesting to explore would be and that correlates to how much money one might make on rental properties. \n",
    "### Question 1: Does having more pictures of the house correspond to higher overall reviews or prices for the location? \n",
    "### Question 2: Is square feet correlated to price?  \n",
    "### Question 3: What feature correlates to higher prices? \n",
    "### Question 4: What feature correlate to higher overall review ratings? \n",
    "### Question 5: What days are the most popular? Specifically Weekdays or Weekends? \n",
    "### Question 6: Does higher review count correspond to higher prices on the location? \n",
    "### Question 7: Does not having a picture correlate to not having a review?"
   ]
  },
  {
   "cell_type": "markdown",
   "metadata": {},
   "source": [
    "# Section 2: Data Understanding"
   ]
  },
  {
   "cell_type": "code",
   "execution_count": null,
   "metadata": {},
   "outputs": [],
   "source": [
    "calendar = pd.read_csv('./data/archive/calendar.csv')\n",
    "listings = pd.read_csv('./data/archive/listings.csv')\n",
    "reviews = pd.read_csv('./data/archive/reviews.csv')"
   ]
  },
  {
   "cell_type": "markdown",
   "metadata": {},
   "source": [
    "#### Look at the columns of the data"
   ]
  },
  {
   "cell_type": "code",
   "execution_count": null,
   "metadata": {},
   "outputs": [],
   "source": [
    "calendar.columns"
   ]
  },
  {
   "cell_type": "code",
   "execution_count": null,
   "metadata": {},
   "outputs": [],
   "source": [
    "listings.columns"
   ]
  },
  {
   "cell_type": "code",
   "execution_count": null,
   "metadata": {},
   "outputs": [],
   "source": [
    "reviews.columns"
   ]
  },
  {
   "cell_type": "markdown",
   "metadata": {},
   "source": [
    "#### Does having more pictures of the house correspond to higher overall reviews or prices for the location? "
   ]
  },
  {
   "cell_type": "code",
   "execution_count": null,
   "metadata": {},
   "outputs": [],
   "source": [
    "# Figure out how much of the data is missing.\n",
    "listings[['thumbnail_url','medium_url','xl_picture_url']].isna().mean()"
   ]
  },
  {
   "cell_type": "code",
   "execution_count": null,
   "metadata": {},
   "outputs": [],
   "source": [
    "# Filling with the value of 0 becuase the cleaning method below will use that to feature generate a column for a binary value for if the url is present\n",
    "dataForPictureQuestion = listings[['thumbnail_url','medium_url','xl_picture_url','review_scores_value']].dropna(subset=['review_scores_value']).fillna(0)"
   ]
  },
  {
   "cell_type": "code",
   "execution_count": null,
   "metadata": {},
   "outputs": [],
   "source": [
    "#cleaning up the column values\n",
    "for col in dataForPictureQuestion[['thumbnail_url','medium_url','xl_picture_url']].columns: \n",
    "    dataForPictureQuestion[col] = dataForPictureQuestion[col].apply(lambda x: 1 if x != 0 else 0)"
   ]
  },
  {
   "cell_type": "code",
   "execution_count": null,
   "metadata": {},
   "outputs": [],
   "source": [
    "# view the result from the previous cleaning method. Expecting the only values in the columns to be 1 or 0 to help with filtering\n",
    "dataForPictureQuestion.head()"
   ]
  },
  {
   "cell_type": "code",
   "execution_count": null,
   "metadata": {},
   "outputs": [],
   "source": [
    "dataForPictureQuestion[(dataForPictureQuestion['thumbnail_url'] == 1)]"
   ]
  },
  {
   "cell_type": "code",
   "execution_count": null,
   "metadata": {},
   "outputs": [],
   "source": [
    "dataForPictureQuestion[(dataForPictureQuestion['medium_url'] == 1) & (dataForPictureQuestion['xl_picture_url'] == 1)]"
   ]
  },
  {
   "cell_type": "markdown",
   "metadata": {},
   "source": [
    "#### The data suggests that if you have one picture in the listing, then you will have all of the pictures in the listing. Determined by adjusting the columns in the previous cell, and noting that they all have the same number of rows in the resulting dataset. Also that the dataset has about 90% of a value in the dataset. "
   ]
  },
  {
   "cell_type": "markdown",
   "metadata": {},
   "source": [
    "I would like to see a correlation of scores to each of the datasets values. I am including the various picture values, even though if you have one value, then you will get ones across the board. <br>\n",
    "Using the information that if it is one value for any of the picture urls, then it has a value for all of them. That means that I can keep one column and if it is true for that column, then it will hold true for all of them, and try to save some local ram for the dummy columns. I just randomly decided to use the 'thumbnail_url' column."
   ]
  },
  {
   "cell_type": "code",
   "execution_count": null,
   "metadata": {},
   "outputs": [],
   "source": [
    "dataForPictureQuestion.head()"
   ]
  },
  {
   "cell_type": "code",
   "execution_count": null,
   "metadata": {},
   "outputs": [],
   "source": [
    "dataForPictureQuestion['review_scores_value'].unique()"
   ]
  },
  {
   "cell_type": "code",
   "execution_count": null,
   "metadata": {},
   "outputs": [],
   "source": [
    "dummyScoreValues = pd.get_dummies(dataForPictureQuestion['review_scores_value'])\n",
    "#change values so that when we create a dummy column for it, the values will make sense in the resulting dataset.\n",
    "dataForPictureQuestion['thumbnail_url'].loc[dataForPictureQuestion['thumbnail_url'] == 1] = 'Contains Pictures'\n",
    "dataForPictureQuestion['thumbnail_url'].loc[dataForPictureQuestion['thumbnail_url'] == 0] = 'No Pictures'\n",
    "dummyPictureValues = pd.get_dummies(dataForPictureQuestion['thumbnail_url'])"
   ]
  },
  {
   "cell_type": "code",
   "execution_count": null,
   "metadata": {},
   "outputs": [],
   "source": [
    "#in the large string of items I group_by values to count the items in the group. Then I reset the index to be able to pivot based on the previous columns. \n",
    "# finally filling na with 0 for any NA values becuase NA means that they didn't have any counts in the count method. \n",
    "dataForPictureHeatmap = dataForPictureQuestion[['thumbnail_url','review_scores_value','medium_url']].groupby(['thumbnail_url','review_scores_value']).count()\\\n",
    "                                                                            .rename({'medium_url':'count'},axis=1)\\\n",
    "                                                                            .reset_index()\\\n",
    "                                                                            .pivot('thumbnail_url','review_scores_value','count')\\\n",
    "                                                                            .fillna(0)"
   ]
  },
  {
   "cell_type": "code",
   "execution_count": null,
   "metadata": {},
   "outputs": [],
   "source": [
    "dataForPictureHeatmap"
   ]
  },
  {
   "cell_type": "code",
   "execution_count": null,
   "metadata": {},
   "outputs": [],
   "source": [
    "import matplotlib.pyplot as plt\n",
    "\n",
    "sns.set(rc={'figure.figsize':(20,5)})\n",
    "sns.heatmap(dataForPictureHeatmap,annot=True).set_ylim([0,2])\n",
    "plt.title('Heatmap of distribution of review scores vs if the listing contains pictures.')\n",
    "plt.xlabel(\"Review Scores for listing.\")\n",
    "plt.ylabel(\"Listing posting contains pictures.\")"
   ]
  },
  {
   "cell_type": "markdown",
   "metadata": {},
   "source": [
    "#### This picture shows is a visual representation of the distribution of pictures vs review score. This shows that most of the values that contain pictures also recieve a higher rating. However, compared to the other distribution, the listings with no pictures still recieve a very high review even if they don't have a picture. So it looks like, no picture, no problem! You are in the minority for not posting listings with pictures, but it doesn't seem to matter. "
   ]
  },
  {
   "cell_type": "markdown",
   "metadata": {},
   "source": [
    "#### Time to see if this is also representative of the entire dataset. "
   ]
  },
  {
   "cell_type": "code",
   "execution_count": null,
   "metadata": {},
   "outputs": [],
   "source": [
    "listings['review_scores_value'].hist()\n",
    "plt.xlabel(\"Review score values\")\n",
    "plt.ylabel(\"Count of that review score\")\n",
    "plt.title(\"Histogram of review scores\")"
   ]
  },
  {
   "cell_type": "code",
   "execution_count": null,
   "metadata": {},
   "outputs": [],
   "source": [
    "listings['review_scores_value'].describe()"
   ]
  },
  {
   "cell_type": "markdown",
   "metadata": {},
   "source": [
    "This plot shows that the lowest review score is a 2, and most of the distribution of rentals are towards the top for analyses that have pictures attached to the rental. <br> \n",
    "This also shows us that the overall review score is skewed towards the high end with more everyone enjoying their stay at AirBnB rooms. With over half of the review scores being a 10. "
   ]
  },
  {
   "cell_type": "markdown",
   "metadata": {},
   "source": [
    "### Is square feet correlated to price?"
   ]
  },
  {
   "cell_type": "markdown",
   "metadata": {},
   "source": [
    "First thing to do is to look into the features for those two items."
   ]
  },
  {
   "cell_type": "code",
   "execution_count": null,
   "metadata": {},
   "outputs": [],
   "source": [
    "listings['square_feet'].isna().sum()"
   ]
  },
  {
   "cell_type": "code",
   "execution_count": null,
   "metadata": {},
   "outputs": [],
   "source": [
    "listings.shape"
   ]
  },
  {
   "cell_type": "markdown",
   "metadata": {},
   "source": [
    "#### This shows that there isn't a ton of data around the square feet, and problable won't be able to accurately infer a square feet from the data that isn't biased... <br> \n",
    "#### However, we still might be able to infer some inforamtion from what we have."
   ]
  },
  {
   "cell_type": "code",
   "execution_count": null,
   "metadata": {},
   "outputs": [],
   "source": [
    "not_null_square_feet = listings[listings['square_feet'].notnull()]"
   ]
  },
  {
   "cell_type": "code",
   "execution_count": null,
   "metadata": {},
   "outputs": [],
   "source": [
    "not_null_square_feet.head(2)"
   ]
  },
  {
   "cell_type": "code",
   "execution_count": null,
   "metadata": {},
   "outputs": [],
   "source": [
    "def clean_price_column(x):\n",
    "    \"\"\"\n",
    "    Removes the $ value, and commas in a price value. \n",
    "    \n",
    "    Param: the value you wish to adjust\n",
    "    Type: String\n",
    "    Rtype: String\n",
    "    Retrun: String that allows the value to be type casted to a float\n",
    "    \"\"\"\n",
    "    return x.replace('$', '').replace(',','')"
   ]
  },
  {
   "cell_type": "code",
   "execution_count": null,
   "metadata": {},
   "outputs": [],
   "source": [
    "not_null_square_feet['price'] = pd.to_numeric(not_null_square_feet['price'].str.replace('$',''))\n",
    "not_null_square_feet.sort_values(['price','square_feet'])[['price','square_feet']]"
   ]
  },
  {
   "cell_type": "code",
   "execution_count": null,
   "metadata": {},
   "outputs": [],
   "source": [
    "not_null_square_feet[not_null_square_feet['square_feet'] == 3]"
   ]
  },
  {
   "cell_type": "code",
   "execution_count": null,
   "metadata": {},
   "outputs": [],
   "source": [
    "sns.set(rc={'figure.figsize':(10,10)})\n",
    "sns.regplot(data=not_null_square_feet.sort_values(['price']),x='square_feet',y='price')\n",
    "plt.title(\"Regression line for price vs square feet\")\n",
    "plt.ylabel(\"Price for rental\")\n",
    "plt.xlabel(\"Square feet for rental\")"
   ]
  },
  {
   "cell_type": "markdown",
   "metadata": {},
   "source": [
    "Since there is only 97 rows with square feet not null <br>\n",
    "However, from the data present, there is a notable correlation between price and square feet noted both in the scatter plot. The other thing of note is the low values pushing the trend a little higher on he bottom. So we will remove those outliars in the dataset. "
   ]
  },
  {
   "cell_type": "code",
   "execution_count": null,
   "metadata": {},
   "outputs": [],
   "source": [
    "not_null_square_feet.sort_values('square_feet')['square_feet'].unique()"
   ]
  },
  {
   "cell_type": "code",
   "execution_count": null,
   "metadata": {},
   "outputs": [],
   "source": [
    "outliar_values = [1.0, 2.0, 3.0, 4.0]\n",
    "removed_lower_limit_outliars = not_null_square_feet[~not_null_square_feet['square_feet'].isin(outliar_values)]"
   ]
  },
  {
   "cell_type": "code",
   "execution_count": null,
   "metadata": {},
   "outputs": [],
   "source": [
    "sns.set(rc={'figure.figsize':(10,10)})\n",
    "sns.regplot(data=removed_lower_limit_outliars.sort_values(['price']), x='square_feet', y='price')\n",
    "plt.title(\"Regression line for price vs square feet\")\n",
    "plt.ylabel(\"Price for rental\")\n",
    "plt.xlabel(\"Square feet for rental\")"
   ]
  },
  {
   "cell_type": "markdown",
   "metadata": {},
   "source": [
    "What days are the most popular? Specifically Weekdays or Weekends?"
   ]
  },
  {
   "cell_type": "code",
   "execution_count": null,
   "metadata": {},
   "outputs": [],
   "source": [
    "from datetime import datetime"
   ]
  },
  {
   "cell_type": "code",
   "execution_count": null,
   "metadata": {},
   "outputs": [],
   "source": [
    "calendar.head(20)"
   ]
  },
  {
   "cell_type": "code",
   "execution_count": null,
   "metadata": {},
   "outputs": [],
   "source": [
    "date = datetime.strptime('2016-01-8', '%Y-%m-%d')"
   ]
  },
  {
   "cell_type": "code",
   "execution_count": null,
   "metadata": {},
   "outputs": [],
   "source": [
    "if date.weekday() > 4: \n",
    "    print(\"Weekend\")\n",
    "else: print(\"Weekday\")"
   ]
  },
  {
   "cell_type": "code",
   "execution_count": null,
   "metadata": {},
   "outputs": [],
   "source": [
    "def is_weekend(date_in):\n",
    "    \"\"\"\n",
    "    Retruns a boolean for if the time passed in is on the weekend or not. \n",
    "    Note is that Friday is considered a weekday under this rule, because it is a normal workday. \n",
    "    \n",
    "    Param: date: The string of the format YYYY-M-D representing a date.\n",
    "    Type: String\n",
    "    Rtype: Boolean\n",
    "    Return: True if the date passed in is on a weekend, and false if it is a weekday.  \n",
    "    \"\"\"\n",
    "    date = datetime.strptime(date_in, '%Y-%m-%d')\n",
    "    if date.weekday() > 4: \n",
    "        return True\n",
    "    return False"
   ]
  },
  {
   "cell_type": "code",
   "execution_count": null,
   "metadata": {},
   "outputs": [],
   "source": [
    "calendar['weekend'] = calendar['date'].apply(is_weekend)"
   ]
  },
  {
   "cell_type": "code",
   "execution_count": null,
   "metadata": {},
   "outputs": [],
   "source": [
    "calendar['price'].isna()"
   ]
  },
  {
   "cell_type": "code",
   "execution_count": null,
   "metadata": {},
   "outputs": [],
   "source": [
    "calendar[calendar['available'] == 'f']['price'].unique()"
   ]
  },
  {
   "cell_type": "markdown",
   "metadata": {},
   "source": [
    "A note for price on nights that are unavialable is null. So we will only be able to analyze the price for if the listing is available for that day. "
   ]
  },
  {
   "cell_type": "code",
   "execution_count": null,
   "metadata": {},
   "outputs": [],
   "source": [
    "available = calendar[calendar['available'] == 't']"
   ]
  },
  {
   "cell_type": "code",
   "execution_count": null,
   "metadata": {},
   "outputs": [],
   "source": [
    "available['price'] = pd.to_numeric(available['price'].apply(clean_price_column))"
   ]
  },
  {
   "cell_type": "code",
   "execution_count": null,
   "metadata": {},
   "outputs": [],
   "source": [
    "available['price'].mean()"
   ]
  },
  {
   "cell_type": "code",
   "execution_count": null,
   "metadata": {},
   "outputs": [],
   "source": [
    "available_weekends = available[(available['weekend'] == True)]\n",
    "available_weekdays = available[available['weekend'] == False]"
   ]
  },
  {
   "cell_type": "code",
   "execution_count": null,
   "metadata": {},
   "outputs": [],
   "source": [
    "available_weekends['price'].mean()"
   ]
  },
  {
   "cell_type": "code",
   "execution_count": null,
   "metadata": {},
   "outputs": [],
   "source": [
    "available_weekdays['price'].mean()"
   ]
  },
  {
   "cell_type": "markdown",
   "metadata": {},
   "source": [
    "Interesting that the mean for the whole dataset is closer to the mean for the weekdays, however this makes sense because of the number of weekdays compared to weekend days. "
   ]
  },
  {
   "cell_type": "code",
   "execution_count": null,
   "metadata": {},
   "outputs": [],
   "source": [
    "available_weekends['price'].hist(bins=100)"
   ]
  },
  {
   "cell_type": "code",
   "execution_count": null,
   "metadata": {},
   "outputs": [],
   "source": [
    "available_weekends['price'].describe()"
   ]
  },
  {
   "cell_type": "markdown",
   "metadata": {},
   "source": [
    "#### Shows that the distibution has a lot of lower valued rooms available on the weekends. Seeming ot be lumping around the 100 range. "
   ]
  },
  {
   "cell_type": "code",
   "execution_count": null,
   "metadata": {},
   "outputs": [],
   "source": [
    "import matplotlib.pyplot as plt"
   ]
  },
  {
   "cell_type": "code",
   "execution_count": null,
   "metadata": {},
   "outputs": [],
   "source": [
    "available[available['weekend'] == False]['price'].hist(bins=100, xlabelsize=10)"
   ]
  },
  {
   "cell_type": "code",
   "execution_count": null,
   "metadata": {},
   "outputs": [],
   "source": [
    "available_weekdays['price'].describe()"
   ]
  },
  {
   "cell_type": "markdown",
   "metadata": {},
   "source": [
    "#### Shows the same result at the previous histogram, and the describe function seems to validate with the 50% being 105. <br> \n",
    "These distributions seem to represent log scales. So next is to convert and see if that assumption is accurate."
   ]
  },
  {
   "cell_type": "code",
   "execution_count": null,
   "metadata": {},
   "outputs": [],
   "source": [
    "import math \n",
    "available_weekdays['Log Base 10 Price'] = available_weekdays['price'].apply(math.log10)"
   ]
  },
  {
   "cell_type": "code",
   "execution_count": null,
   "metadata": {},
   "outputs": [],
   "source": [
    "sns.histplot(available_weekdays, x=\"Log Base 10 Price\", bins=100).set_title('Log10 histogram of price on weekdays')"
   ]
  },
  {
   "cell_type": "markdown",
   "metadata": {},
   "source": [
    "#### Indeed, the distribution is log based"
   ]
  },
  {
   "cell_type": "code",
   "execution_count": null,
   "metadata": {},
   "outputs": [],
   "source": [
    "available_weekends['price'].describe()"
   ]
  },
  {
   "cell_type": "markdown",
   "metadata": {},
   "source": [
    "#### Curious if the weekend distribution is the same."
   ]
  },
  {
   "cell_type": "code",
   "execution_count": null,
   "metadata": {},
   "outputs": [],
   "source": [
    "import math \n",
    "available_weekends['Log Base 10 Price'] = available_weekends['price'].apply(math.log10)"
   ]
  },
  {
   "cell_type": "code",
   "execution_count": null,
   "metadata": {},
   "outputs": [],
   "source": [
    "sns.histplot(available_weekends, x=\"Log Base 10 Price\", bins=100).set_title('Log10 histogram of price on weekends')"
   ]
  },
  {
   "cell_type": "markdown",
   "metadata": {},
   "source": [
    "### And indeed it looks that way as well. "
   ]
  },
  {
   "cell_type": "markdown",
   "metadata": {},
   "source": [
    "Now to investigate a little more of the distribution before doing data preparation for the modeling."
   ]
  },
  {
   "cell_type": "code",
   "execution_count": null,
   "metadata": {},
   "outputs": [],
   "source": [
    "available_weekends['price'].mode()"
   ]
  },
  {
   "cell_type": "code",
   "execution_count": null,
   "metadata": {},
   "outputs": [],
   "source": [
    "available_weekdays['price'].mode()"
   ]
  },
  {
   "cell_type": "code",
   "execution_count": null,
   "metadata": {},
   "outputs": [],
   "source": [
    "len(calendar[calendar['available']=='t'])"
   ]
  },
  {
   "cell_type": "code",
   "execution_count": null,
   "metadata": {},
   "outputs": [],
   "source": [
    "### Bonus: What does number of reviews compared to price look like? "
   ]
  },
  {
   "cell_type": "code",
   "execution_count": null,
   "metadata": {},
   "outputs": [],
   "source": [
    "listings['price'] = listings['price'].apply(clean_price_column).astype('float64')"
   ]
  },
  {
   "cell_type": "code",
   "execution_count": null,
   "metadata": {},
   "outputs": [],
   "source": [
    "sns.scatterplot(data=listings, x='reviews_per_month', y='price')"
   ]
  },
  {
   "cell_type": "markdown",
   "metadata": {},
   "source": [
    "Just checking listing reviews because I was curious. I don't think that there is much to gleen from this except that the more rentals you have, it appears that you have lower prices for that property. Most likely due to the rental being available during the weekdays. The ones with less reviews per month are higher prices, meaning that they are most likely rentals that are on rentals available one the weekend. <br> \n",
    "Along with the fact that if there are that many reviews for one property that indicates that there are a lot of people visiting that property in a month. Or they have some sort of incentive for leaving a review. <br> \n",
    "Another option is review buffing by having the same person leave multiple reviews for the same property. "
   ]
  },
  {
   "cell_type": "markdown",
   "metadata": {},
   "source": [
    "# Section 3: Data Preparation  "
   ]
  },
  {
   "cell_type": "markdown",
   "metadata": {},
   "source": [
    "### What feature correlates to higher prices and create a model around it to analyze the coefficients for multiple variable analysis? <br> \n",
    "To start the data will have to be cleaned and then the information viewed to be described. "
   ]
  },
  {
   "cell_type": "code",
   "execution_count": null,
   "metadata": {},
   "outputs": [],
   "source": [
    "#only grabbing the data that will fit the model at this moment. \n",
    "#If time allows I will add more data into the model to see if it affects the overall trend found from this analysis\n",
    "startingListings = listings.select_dtypes(include=['double','int'])"
   ]
  },
  {
   "cell_type": "code",
   "execution_count": null,
   "metadata": {},
   "outputs": [],
   "source": [
    "# The goal is to predict price, so we will assign that to the y variable.\n",
    "y=listings['price']"
   ]
  },
  {
   "cell_type": "code",
   "execution_count": null,
   "metadata": {},
   "outputs": [],
   "source": [
    "listings['square_feet'].isna().mean()"
   ]
  },
  {
   "cell_type": "markdown",
   "metadata": {},
   "source": [
    "Dropping latitude and longitude from the dataset, because they have unique values for the entire dataset, and could be trained to be a 1-1 relationship with price.<br> \n",
    "Also dropping license, because it has all null values for this dataset. <br> \n",
    "Finally, dropping square feet from the dataset, because of the significant number of null values. 97% null will sway the dataset weights for square feet given the method for filling na values. <br>\n",
    "The goal is to create a model for price and analyse the coef_ attribute to see what columns have a postive correlation to the price of the unit. "
   ]
  },
  {
   "cell_type": "code",
   "execution_count": null,
   "metadata": {},
   "outputs": [],
   "source": [
    "x = startingListings.drop(['price','latitude','longitude','license','square_feet'],axis=1)"
   ]
  },
  {
   "cell_type": "code",
   "execution_count": null,
   "metadata": {},
   "outputs": [],
   "source": [
    "x.isna().sum()"
   ]
  },
  {
   "cell_type": "code",
   "execution_count": null,
   "metadata": {},
   "outputs": [],
   "source": [
    "x.shape"
   ]
  },
  {
   "cell_type": "code",
   "execution_count": null,
   "metadata": {},
   "outputs": [],
   "source": [
    "x.describe()"
   ]
  },
  {
   "cell_type": "code",
   "execution_count": null,
   "metadata": {},
   "outputs": [],
   "source": [
    "# Given the number of na values in the dataset, it makes sense to add fill the nas with values that doesn't make sense for the model. \n",
    "# If we removed all na values, there would not be much of a dataset for modeling.\n",
    "filled_na = x.fillna(-1)"
   ]
  },
  {
   "cell_type": "code",
   "execution_count": null,
   "metadata": {},
   "outputs": [],
   "source": [
    "x_train, x_test, y_train, y_test = train_test_split(filled_na, y, test_size=.33, random_state=42)"
   ]
  },
  {
   "cell_type": "markdown",
   "metadata": {},
   "source": [
    "# Section 4: Modeling"
   ]
  },
  {
   "cell_type": "markdown",
   "metadata": {},
   "source": [
    "Continuing the duscussion above for finding a linear regression model for price and what values help predict price. "
   ]
  },
  {
   "cell_type": "code",
   "execution_count": null,
   "metadata": {},
   "outputs": [],
   "source": [
    "from sklearn import linear_model\n",
    "reg = linear_model.LinearRegression()"
   ]
  },
  {
   "cell_type": "code",
   "execution_count": null,
   "metadata": {},
   "outputs": [],
   "source": [
    "reg.fit(x_train, y_train)"
   ]
  },
  {
   "cell_type": "code",
   "execution_count": null,
   "metadata": {},
   "outputs": [],
   "source": [
    "pred = reg.predict(x_test)"
   ]
  },
  {
   "cell_type": "code",
   "execution_count": null,
   "metadata": {},
   "outputs": [],
   "source": [
    "reg.coef_"
   ]
  },
  {
   "cell_type": "markdown",
   "metadata": {},
   "source": [
    "Based on the coefficients for the logistical model, it looks like the three highest attributes to determine price is bathrooms, bedrooms and beds. "
   ]
  },
  {
   "cell_type": "code",
   "execution_count": null,
   "metadata": {},
   "outputs": [],
   "source": [
    "reg2 = linear_model.LinearRegression()\n",
    "reg2.fit(filled_na, y)"
   ]
  },
  {
   "cell_type": "code",
   "execution_count": null,
   "metadata": {},
   "outputs": [],
   "source": [
    "reg2.coef_"
   ]
  },
  {
   "cell_type": "markdown",
   "metadata": {},
   "source": [
    "# Section 5: Evaluation"
   ]
  },
  {
   "cell_type": "markdown",
   "metadata": {},
   "source": [
    "## 1. Does having more pictures of the house correspond to higher overall reviews or prices for the location? \n",
    "   1. Which ones have a better correlation to the higher review?\n",
    "      1. After some review it appears there is a good coorelation between including pictures and ratings.\n",
    "      2. This could be just reflecting the overall distribution of reviews for the data though without showing any clear signs of one being better than the other.      "
   ]
  },
  {
   "cell_type": "code",
   "execution_count": null,
   "metadata": {},
   "outputs": [],
   "source": [
    "listings['review_scores_value'].hist()\n",
    "plt.xlabel(\"Review score values\")\n",
    "plt.ylabel(\"Count of that review score\")\n",
    "plt.title(\"Histogram of review scores\")"
   ]
  },
  {
   "cell_type": "markdown",
   "metadata": {},
   "source": [
    "This picture shows the overall review scores distribution for the data. "
   ]
  },
  {
   "cell_type": "code",
   "execution_count": null,
   "metadata": {},
   "outputs": [],
   "source": [
    "sns.set(rc={'figure.figsize':(20,5)})\n",
    "sns.heatmap(dataForPictureHeatmap,annot=True).set_ylim([0,2])\n",
    "plt.title('Heatmap of distribution of review scores vs if the listing contains pictures.')\n",
    "plt.xlabel(\"Review Scores for listing.\")\n",
    "plt.ylabel(\"Listing posting contains pictures.\")"
   ]
  },
  {
   "cell_type": "markdown",
   "metadata": {},
   "source": [
    "This is a heatmap of the review scores vs if they contain pictures. This visualization shows that there is a significant more amount of reviews containing pictures than not. However the distribution for no pictures drops off significantly at 8s, while reviews for listings with pictures drop off around review scores of 7."
   ]
  },
  {
   "cell_type": "markdown",
   "metadata": {},
   "source": [
    "## 2. Is square feet correlated to price?  \n",
    "   1. Since there is only 97 rows with square feet not null, this questions will be excluded from investigation\n",
    "   2. However, from the data present, there isn't any notable correlation between price and square feet"
   ]
  },
  {
   "cell_type": "code",
   "execution_count": null,
   "metadata": {},
   "outputs": [],
   "source": [
    "sns.set(rc={'figure.figsize':(10,10)})\n",
    "sns.regplot(data=not_null_square_feet.sort_values(['price']),x='square_feet',y='price')\n",
    "plt.title(\"Does square feet increase rental price?\")\n",
    "plt.ylabel(\"Price for rental\")\n",
    "plt.xlabel(\"Square feet for rental\")"
   ]
  },
  {
   "cell_type": "markdown",
   "metadata": {},
   "source": [
    "This plot showing square feet and price for rentals have an overall upward trend, even with some outliars. There is also a note about the square feet less than 100 and with prices that are fairly high for a night stay. These values pull the trend line down. This chart also has square feet of 0,1,2 ft^2 removed as well. However, dispite that, there is a correlation between square feet and rental price. Another note about this graph is that there isn't a ton of points, compared to the whole dataset (N ~ 100). "
   ]
  },
  {
   "cell_type": "markdown",
   "metadata": {},
   "source": [
    "### 3. What feature correlates to higher prices? \n",
    "   1. Based on the coefficients for the linear model, it looks like the three highest attributes to determine price is bathrooms, bedrooms and beds."
   ]
  },
  {
   "cell_type": "code",
   "execution_count": null,
   "metadata": {},
   "outputs": [],
   "source": [
    "linear_model_coef = pd.DataFrame()\n",
    "linear_model_coef['columns'] = x.columns\n",
    "linear_model_coef['coef'] = reg2.coef_\n",
    "linear_model_coef['annotation'] = reg2.coef_"
   ]
  },
  {
   "cell_type": "code",
   "execution_count": null,
   "metadata": {},
   "outputs": [],
   "source": [
    "linear_model_coef[['columns','coef']]"
   ]
  },
  {
   "cell_type": "code",
   "execution_count": null,
   "metadata": {},
   "outputs": [],
   "source": [
    "plot = sns.barplot(x='coef', y='columns', data=linear_model_coef.sort_values('coef'))\n",
    "plt.title(\"What features affect the price of the rental?\")"
   ]
  },
  {
   "cell_type": "markdown",
   "metadata": {},
   "source": [
    "From the table, it is apparent that the best correlations to bedrooms, bathrooms, beds, review_scores_location, and the negative correlation is review_scores_value. "
   ]
  },
  {
   "cell_type": "markdown",
   "metadata": {},
   "source": [
    "### 4. What feature correlate to higher overall review ratings? "
   ]
  },
  {
   "cell_type": "markdown",
   "metadata": {},
   "source": [
    "See visual from 3 and analysis from 3. "
   ]
  },
  {
   "cell_type": "markdown",
   "metadata": {},
   "source": [
    "### 5. What days are the most popular? Specifically Weekdays or Weekends? \n",
    "   1. The data suggests that there is a correlation to the weekends having higher base rate for most of the stats. "
   ]
  },
  {
   "cell_type": "code",
   "execution_count": null,
   "metadata": {},
   "outputs": [],
   "source": [
    "available_weekends['price'].hist(bins=100)\n",
    "plt.xlabel('Weekend price')\n",
    "plt.ylabel('Count')\n",
    "plt.title(\"What does the distribution of weekend prices?\")"
   ]
  },
  {
   "cell_type": "markdown",
   "metadata": {},
   "source": [
    "Histogram of the weekend price showing that there is a huge spike of prices at the lower end of the dataset. With the distribution being: "
   ]
  },
  {
   "cell_type": "code",
   "execution_count": null,
   "metadata": {},
   "outputs": [],
   "source": [
    "available_weekends['price'].describe()"
   ]
  },
  {
   "cell_type": "code",
   "execution_count": null,
   "metadata": {},
   "outputs": [],
   "source": [
    "available_weekends['price'].mode()"
   ]
  },
  {
   "cell_type": "code",
   "execution_count": null,
   "metadata": {},
   "outputs": [],
   "source": [
    "available_weekdays['price'].hist(bins=100, xlabelsize=10)\n",
    "plt.xlabel(\"Weekday Price\")\n",
    "plt.ylabel(\"Count\")\n",
    "plt.title(\"What is the distribution of weekday prices?\")"
   ]
  },
  {
   "cell_type": "code",
   "execution_count": null,
   "metadata": {},
   "outputs": [],
   "source": [
    "available_weekdays['price'].describe()"
   ]
  },
  {
   "cell_type": "code",
   "execution_count": null,
   "metadata": {},
   "outputs": [],
   "source": [
    "available_weekdays['price'].mode()"
   ]
  },
  {
   "cell_type": "markdown",
   "metadata": {},
   "source": [
    "Based on the summary statistics for these distributions, the mean is more on the weekend, and most of the distribution is scued up on the weekend based on the 50th and 75th percent. So, overall the prices tend to be higher on the weekends. "
   ]
  },
  {
   "cell_type": "markdown",
   "metadata": {},
   "source": [
    "### 6. Does higher review count correspond to higher prices on the location? "
   ]
  },
  {
   "cell_type": "markdown",
   "metadata": {},
   "source": [
    "Based on the review from 3, it does not appear so. Actually the review scores negatively attribute to price. I believe this is because of the number of highly rated properties and listings in the dataset. "
   ]
  },
  {
   "cell_type": "markdown",
   "metadata": {},
   "source": [
    "### 7. Does not having a picture correlate to not having a review?\n",
    "   1. It does not. There is a good portion of na reviews that have pictures. I again believe that this has something to do with the overall distribution of the data for the dataset."
   ]
  },
  {
   "cell_type": "code",
   "execution_count": null,
   "metadata": {},
   "outputs": [],
   "source": []
  }
 ],
 "metadata": {
  "kernelspec": {
   "display_name": "Python 3",
   "language": "python",
   "name": "python3"
  },
  "language_info": {
   "codemirror_mode": {
    "name": "ipython",
    "version": 3
   },
   "file_extension": ".py",
   "mimetype": "text/x-python",
   "name": "python",
   "nbconvert_exporter": "python",
   "pygments_lexer": "ipython3",
   "version": "3.7.4"
  }
 },
 "nbformat": 4,
 "nbformat_minor": 4
}
